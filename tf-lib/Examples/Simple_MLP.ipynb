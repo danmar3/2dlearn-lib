{
 "cells": [
  {
   "cell_type": "markdown",
   "metadata": {},
   "source": [
    "# Test for a simple regression problem"
   ]
  },
  {
   "cell_type": "code",
   "execution_count": 1,
   "metadata": {
    "collapsed": false
   },
   "outputs": [],
   "source": [
    "from __future__ import absolute_import\n",
    "from __future__ import division\n",
    "from __future__ import print_function\n",
    "\n",
    "import tensorflow as tf\n",
    "import numpy as np\n",
    "\n",
    "import sys\n",
    "sys.path.append('../')\n",
    "from Feedforward import *\n",
    "from Batch_generator import *"
   ]
  },
  {
   "cell_type": "markdown",
   "metadata": {},
   "source": [
    "## 1. Create Dataset"
   ]
  },
  {
   "cell_type": "code",
   "execution_count": 2,
   "metadata": {
    "collapsed": false
   },
   "outputs": [
    {
     "name": "stdout",
     "output_type": "stream",
     "text": [
      "(100, 1)\n",
      "(100, 1)\n"
     ]
    }
   ],
   "source": [
    "train_X= np.expand_dims(np.linspace(0,10,100), -1)\n",
    "train_y= np.sin(train_X)\n",
    "\n",
    "test_X= np.expand_dims(np.linspace(0,10,1000), -1)\n",
    "test_y= np.sin(test_X)\n",
    "\n",
    "n_features= 1\n",
    "\n",
    "print(train_X.shape)\n",
    "print(train_y.shape)"
   ]
  },
  {
   "cell_type": "markdown",
   "metadata": {},
   "source": [
    "#### normalization"
   ]
  },
  {
   "cell_type": "code",
   "execution_count": 3,
   "metadata": {
    "collapsed": false
   },
   "outputs": [
    {
     "name": "stdout",
     "output_type": "stream",
     "text": [
      "[ 1.]\n",
      "[ 0.99104005]\n"
     ]
    }
   ],
   "source": [
    "std_data= np.std(train_X, 0)\n",
    "mean_data= np.mean(train_X, 0)\n",
    "\n",
    "for i in range(n_features):\n",
    "    train_X[:,i]= (train_X[:,i]-mean_data[i])/std_data[i]\n",
    "    test_X[:,i]= (test_X[:,i]-mean_data[i])/std_data[i]\n",
    "print(np.std(train_X,0))\n",
    "print(np.std(test_X,0))"
   ]
  },
  {
   "cell_type": "markdown",
   "metadata": {},
   "source": [
    "## 2. Batch Generators"
   ]
  },
  {
   "cell_type": "code",
   "execution_count": 4,
   "metadata": {
    "collapsed": false
   },
   "outputs": [],
   "source": [
    "batch_size = train_X.shape[0] #50\n",
    "batch_size_test= test_X.shape[0]"
   ]
  },
  {
   "cell_type": "markdown",
   "metadata": {},
   "source": [
    "## 2. Define the Model"
   ]
  },
  {
   "cell_type": "code",
   "execution_count": 5,
   "metadata": {
    "collapsed": false
   },
   "outputs": [],
   "source": [
    "sess = tf.InteractiveSession()"
   ]
  },
  {
   "cell_type": "code",
   "execution_count": 15,
   "metadata": {
    "collapsed": false
   },
   "outputs": [],
   "source": [
    "# Network parameters\n",
    "n_inputs= n_features\n",
    "n_outputs=  1\n",
    "n_hidden = [10]\n",
    "\n",
    "# for dropout\n",
    "drop_prob = tf.placeholder(tf.float32)\n",
    "\n",
    "# Define MLP Net\n",
    "mlp_net= MlpNet( n_inputs, n_outputs, n_hidden, afunction= tf.sigmoid ,name='MlpNet')\n",
    "\n",
    "# Define train setup\n",
    "train= mlp_net.setup(batch_size, drop_prob, l2_reg_coef= 0.000001, loss_type='l2')\n",
    "# Define test setup\n",
    "test= mlp_net.setup(batch_size_test, drop_prob)\n",
    "\n",
    "\n",
    "# Optimizer.\n",
    "optimizer = tf.train.AdamOptimizer(0.5).minimize(train.loss) #0.001"
   ]
  },
  {
   "cell_type": "markdown",
   "metadata": {},
   "source": [
    "## 3. Train the model"
   ]
  },
  {
   "cell_type": "code",
   "execution_count": 18,
   "metadata": {
    "collapsed": false
   },
   "outputs": [
    {
     "name": "stdout",
     "output_type": "stream",
     "text": [
      "Initialized\n",
      "0  | test: 3758.95925425  | loss: 2.54575042725\n",
      "10  | test: 291.743297987  | loss: 94.8753042221\n",
      "20  | test: 224.149014966  | loss: 32.1076005936\n",
      "30  | test: 222.591826042  | loss: 24.8829061508\n",
      "40  | test: 220.79593739  | loss: 22.9974676132\n",
      "50  | test: 221.961793016  | loss: 22.2827026367\n",
      "60  | test: 221.493335716  | loss: 22.1667984009\n",
      "70  | test: 220.658622364  | loss: 22.066759491\n",
      "80  | test: 220.123101244  | loss: 21.9960584641\n",
      "90  | test: 219.300347133  | loss: 21.9349243164\n",
      "100  | test: 217.409313614  | loss: 21.7898672104\n",
      "110  | test: 200.76539374  | loss: 21.2636896133\n",
      "120  | test: 175.822476181  | loss: 18.0272022247\n",
      "130  | test: 164.724542544  | loss: 17.0914449692\n",
      "140  | test: 161.253214782  | loss: 16.1468647003\n",
      "150  | test: 159.084899305  | loss: 15.8325285912\n",
      "160  | test: 158.05491065  | loss: 15.7202101707\n",
      "170  | test: 157.404131981  | loss: 15.6391147614\n",
      "180  | test: 156.795551499  | loss: 15.5709746361\n",
      "190  | test: 156.214636341  | loss: 15.5123076439\n",
      "200  | test: 155.595057361  | loss: 15.4541446686\n",
      "210  | test: 154.881168451  | loss: 15.3890995026\n",
      "220  | test: 153.993069801  | loss: 15.3115439415\n",
      "230  | test: 152.79270832  | loss: 15.2113173485\n",
      "240  | test: 151.002360161  | loss: 15.0693824768\n",
      "250  | test: 147.952674234  | loss: 14.8442852974\n",
      "260  | test: 141.517585656  | loss: 14.4220318794\n",
      "270  | test: 121.507340805  | loss: 13.3462527275\n",
      "280  | test: 60.1541079699  | loss: 9.72736592293\n",
      "290  | test: 38.7531976148  | loss: 4.41421875954\n",
      "300  | test: 22.3684233975  | loss: 3.3237653017\n",
      "310  | test: 16.5020070029  | loss: 1.98436527252\n",
      "320  | test: 9.76841961669  | loss: 1.37350506783\n",
      "330  | test: 6.98269425262  | loss: 0.877393192053\n",
      "340  | test: 5.61018147915  | loss: 0.660555624962\n",
      "350  | test: 4.59944216569  | loss: 0.536694648862\n",
      "360  | test: 3.78625792585  | loss: 0.440517142415\n",
      "370  | test: 3.12985078733  | loss: 0.361969032884\n",
      "380  | test: 2.58967326804  | loss: 0.298278743029\n",
      "390  | test: 2.14171638601  | loss: 0.246331593394\n",
      "400  | test: 1.77503946726  | loss: 0.203879511356\n",
      "410  | test: 1.47621497765  | loss: 0.169195359945\n",
      "420  | test: 1.23313677506  | loss: 0.140945526958\n",
      "430  | test: 1.03582012905  | loss: 0.117944038659\n",
      "440  | test: 0.87507141694  | loss: 0.099205468595\n",
      "450  | test: 0.743731411525  | loss: 0.0839015334845\n",
      "460  | test: 0.635997095533  | loss: 0.0713714450598\n",
      "470  | test: 0.547176118849  | loss: 0.0610779229552\n",
      "480  | test: 0.473560572377  | loss: 0.0525850385427\n",
      "490  | test: 0.412240951604  | loss: 0.0455424539745\n",
      "500  | test: 0.360910181097  | loss: 0.0396724149585\n",
      "510  | test: 0.317717109594  | loss: 0.0347537953407\n",
      "520  | test: 0.281175713584  | loss: 0.0306104095653\n",
      "530  | test: 0.250100727242  | loss: 0.0271018516272\n",
      "540  | test: 0.223540471418  | loss: 0.0241159794852\n",
      "550  | test: 0.200729635895  | loss: 0.0215626891702\n",
      "560  | test: 0.181050038159  | loss: 0.0193692924455\n",
      "570  | test: 0.164000671499  | loss: 0.0174768030643\n",
      "580  | test: 0.149168309801  | loss: 0.015837169718\n",
      "590  | test: 0.136215602356  | loss: 0.014411035087\n",
      "600  | test: 0.124863207705  | loss: 0.013165995758\n",
      "610  | test: 0.114878332156  | loss: 0.0120751792565\n",
      "620  | test: 0.106068026562  | loss: 0.0111163158901\n",
      "630  | test: 0.0982694016186  | loss: 0.0102707230486\n",
      "640  | test: 0.0913456992903  | loss: 0.00952277714387\n",
      "650  | test: 0.0851814036505  | loss: 0.00885925926268\n",
      "660  | test: 0.0796781374937  | loss: 0.00826900582761\n",
      "670  | test: 0.0747519565285  | loss: 0.00774249616079\n",
      "680  | test: 0.0703311532859  | loss: 0.00727161234245\n",
      "690  | test: 0.066353919423  | loss: 0.00684940358624\n",
      "700  | test: 0.0627670266131  | loss: 0.0064699433744\n",
      "710  | test: 0.0595247216196  | loss: 0.00612804875709\n",
      "720  | test: 0.0565869966426  | loss: 0.00581926126033\n",
      "730  | test: 0.0539191057949  | loss: 0.0055397267919\n",
      "740  | test: 0.0514909041099  | loss: 0.00528608532622\n",
      "750  | test: 0.049275796967  | loss: 0.00505539570004\n",
      "760  | test: 0.0472507084555  | loss: 0.00484510613605\n",
      "770  | test: 0.0453949252123  | loss: 0.00465296870098\n",
      "780  | test: 0.0436906051916  | loss: 0.00447703641839\n",
      "790  | test: 0.0424350475259  | loss: 0.00432010134682\n",
      "800  | test: 0.252208638425  | loss: 0.00659727184102\n",
      "810  | test: 0.567936209392  | loss: 0.0637745763641\n",
      "820  | test: 0.0577946649573  | loss: 0.0292384946719\n",
      "830  | test: 0.0604914478475  | loss: 0.0118477303535\n",
      "840  | test: 0.0676624828502  | loss: 0.00609818804078\n",
      "850  | test: 0.0362951072429  | loss: 0.00486825038679\n",
      "860  | test: 0.039568621286  | loss: 0.00395816043019\n",
      "870  | test: 0.0349993039564  | loss: 0.00368227099534\n",
      "880  | test: 0.0334183267881  | loss: 0.00346438419074\n",
      "890  | test: 0.032540124531  | loss: 0.00334723058622\n",
      "900  | test: 0.0318045835179  | loss: 0.00325391518418\n",
      "910  | test: 0.0310581512153  | loss: 0.00318945646286\n",
      "920  | test: 0.0310638257717  | loss: 0.00313172410242\n",
      "930  | test: 0.0778250708687  | loss: 0.00386768460739\n",
      "940  | test: 3.34082961518  | loss: 0.0888585514389\n",
      "950  | test: 0.432873792443  | loss: 0.141672146879\n",
      "960  | test: 0.230405229379  | loss: 0.0317059525289\n",
      "970  | test: 0.116653634085  | loss: 0.0188036943553\n",
      "980  | test: 0.0331010688693  | loss: 0.00740478399675\n",
      "990  | test: 0.0437063183907  | loss: 0.00475840575527\n"
     ]
    }
   ],
   "source": [
    "num_steps = 1000 #2000\n",
    "n_logging = 10\n",
    "n_test_logg = 10\n",
    "\n",
    "tf.initialize_all_variables().run()\n",
    "print('Initialized')\n",
    "\n",
    "mean_loss= 0\n",
    "train_accuracy= 0\n",
    "for step in range(num_steps):\n",
    "    batch_X= train_X\n",
    "    batch_y= train_y\n",
    "    \n",
    "        \n",
    "    feed_dict = {train.inputs : batch_X, train.labels : batch_y, drop_prob:1.0}\n",
    "    \n",
    "    _, l, train_pred = sess.run([optimizer, train.loss, train.y],feed_dict=feed_dict)\n",
    "    mean_loss += l    \n",
    "    \n",
    "    if step%n_logging == 0:                \n",
    "        # test\n",
    "        pred = test.y.eval(feed_dict={test.inputs: test_X, drop_prob: 1.0})\n",
    "            \n",
    "        test_error = np.sum( np.power(pred-test_y, 2.0) )/2.0\n",
    "        \n",
    "        # print            \n",
    "        print(step, ' | test:', test_error, ' | loss:', mean_loss/n_logging)\n",
    "        mean_loss= 0\n",
    "        "
   ]
  },
  {
   "cell_type": "code",
   "execution_count": 19,
   "metadata": {
    "collapsed": false
   },
   "outputs": [
    {
     "data": {
      "text/plain": [
       "[<matplotlib.lines.Line2D at 0x7f120c10d7f0>]"
      ]
     },
     "execution_count": 19,
     "metadata": {},
     "output_type": "execute_result"
    },
    {
     "data": {
      "image/png": "[encoded data removed]",
      "text/plain": [
       "<matplotlib.figure.Figure at 0x7f12bc097fd0>"
      ]
     },
     "metadata": {},
     "output_type": "display_data"
    }
   ],
   "source": [
    "%matplotlib inline\n",
    "import matplotlib.pyplot as plt\n",
    "\n",
    "pred = train.y.eval(feed_dict={train.inputs: train_X, drop_prob: 1.0})\n",
    "\n",
    "plt.plot(np.arange(pred.shape[0]), pred)\n",
    "plt.plot(np.arange(pred.shape[0]), pred, 'ro')\n",
    "\n",
    "plt.plot(np.arange(train_y.shape[0]), train_y)\n"
   ]
  },
  {
   "cell_type": "code",
   "execution_count": 20,
   "metadata": {
    "collapsed": false
   },
   "outputs": [
    {
     "data": {
      "text/plain": [
       "[<matplotlib.lines.Line2D at 0x7f120c030cc0>]"
      ]
     },
     "execution_count": 20,
     "metadata": {},
     "output_type": "execute_result"
    },
    {
     "data": {
      "image/png": "[encoded data removed]",
      "text/plain": [
       "<matplotlib.figure.Figure at 0x7f12140b6fd0>"
      ]
     },
     "metadata": {},
     "output_type": "display_data"
    }
   ],
   "source": [
    "pred = test.y.eval(feed_dict={test.inputs: test_X, drop_prob: 1.0})\n",
    "\n",
    "plt.plot(np.arange(pred.shape[0]), pred)\n",
    "plt.plot(np.arange(pred.shape[0]), pred, 'ro')\n",
    "plt.plot(np.arange(test_y.shape[0]), test_y)\n"
   ]
  },
  {
   "cell_type": "code",
   "execution_count": null,
   "metadata": {
    "collapsed": true
   },
   "outputs": [],
   "source": []
  }
 ],
 "metadata": {
  "kernelspec": {
   "display_name": "Python [Root]",
   "language": "python",
   "name": "Python [Root]"
  },
  "language_info": {
   "codemirror_mode": {
    "name": "ipython",
    "version": 3
   },
   "file_extension": ".py",
   "mimetype": "text/x-python",
   "name": "python",
   "nbconvert_exporter": "python",
   "pygments_lexer": "ipython3",
   "version": "3.5.2"
  }
 },
 "nbformat": 4,
 "nbformat_minor": 0
}
