{
 "cells": [
  {
   "cell_type": "markdown",
   "metadata": {},
   "source": [
    "# Test for a simple regression problem"
   ]
  },
  {
   "cell_type": "code",
   "execution_count": 1,
   "metadata": {
    "collapsed": false
   },
   "outputs": [],
   "source": [
    "from __future__ import absolute_import\n",
    "from __future__ import division\n",
    "from __future__ import print_function\n",
    "\n",
    "import tensorflow as tf\n",
    "import numpy as np\n",
    "\n",
    "import sys\n",
    "sys.path.append('../')\n",
    "from Feedforward import *\n",
    "from Batch_generator import *"
   ]
  },
  {
   "cell_type": "markdown",
   "metadata": {},
   "source": [
    "## 1. Create Dataset"
   ]
  },
  {
   "cell_type": "code",
   "execution_count": 2,
   "metadata": {
    "collapsed": false
   },
   "outputs": [
    {
     "name": "stdout",
     "output_type": "stream",
     "text": [
      "(100, 1)\n",
      "(100, 1)\n"
     ]
    }
   ],
   "source": [
    "train_X= np.expand_dims(np.linspace(0,10,100), -1)\n",
    "train_y= np.sin(train_X)\n",
    "\n",
    "test_X= np.expand_dims(np.linspace(0,10,1000), -1)\n",
    "test_y= np.sin(test_X)\n",
    "\n",
    "n_features= 1\n",
    "\n",
    "print(train_X.shape)\n",
    "print(train_y.shape)"
   ]
  },
  {
   "cell_type": "markdown",
   "metadata": {},
   "source": [
    "#### normalization"
   ]
  },
  {
   "cell_type": "code",
   "execution_count": 3,
   "metadata": {
    "collapsed": false
   },
   "outputs": [
    {
     "name": "stdout",
     "output_type": "stream",
     "text": [
      "[ 1.]\n",
      "[ 0.99104005]\n"
     ]
    }
   ],
   "source": [
    "std_data= np.std(train_X, 0)\n",
    "mean_data= np.mean(train_X, 0)\n",
    "\n",
    "for i in range(n_features):\n",
    "    train_X[:,i]= (train_X[:,i]-mean_data[i])/std_data[i]\n",
    "    test_X[:,i]= (test_X[:,i]-mean_data[i])/std_data[i]\n",
    "print(np.std(train_X,0))\n",
    "print(np.std(test_X,0))"
   ]
  },
  {
   "cell_type": "markdown",
   "metadata": {},
   "source": [
    "## 2. Batch Generators"
   ]
  },
  {
   "cell_type": "code",
   "execution_count": 4,
   "metadata": {
    "collapsed": false
   },
   "outputs": [],
   "source": [
    "batch_size = train_X.shape[0] #50\n",
    "batch_size_test= test_X.shape[0]"
   ]
  },
  {
   "cell_type": "markdown",
   "metadata": {},
   "source": [
    "## 2. Define the Model"
   ]
  },
  {
   "cell_type": "code",
   "execution_count": 5,
   "metadata": {
    "collapsed": false
   },
   "outputs": [],
   "source": [
    "sess = tf.InteractiveSession()"
   ]
  },
  {
   "cell_type": "code",
   "execution_count": 6,
   "metadata": {
    "collapsed": false
   },
   "outputs": [],
   "source": [
    "# Network parameters\n",
    "n_inputs= n_features\n",
    "n_outputs=  1\n",
    "n_hidden = [10]\n",
    "\n",
    "# for dropout\n",
    "drop_prob = tf.placeholder(tf.float32)\n",
    "\n",
    "# Define MLP Net\n",
    "mlp_net= MlpNet( n_inputs, n_outputs, n_hidden, afunction= tf.sigmoid ,name='MlpNet')\n",
    "\n",
    "# Define train setup\n",
    "train= mlp_net.setup(batch_size, drop_prob, l2_reg_coef= 0.000001, loss_type='l2')\n",
    "# Define test setup\n",
    "test= mlp_net.setup(batch_size_test, drop_prob)\n",
    "\n",
    "\n",
    "# Optimizer.\n",
    "optimizer = tf.train.AdamOptimizer(0.5).minimize(train.loss) #0.001"
   ]
  },
  {
   "cell_type": "markdown",
   "metadata": {},
   "source": [
    "## 3. Train the model"
   ]
  },
  {
   "cell_type": "code",
   "execution_count": 7,
   "metadata": {
    "collapsed": false
   },
   "outputs": [
    {
     "name": "stdout",
     "output_type": "stream",
     "text": [
      "Initialized\n",
      "0  | test: 4361.52935064  | loss: 2.50855770111\n",
      "10  | test: 296.772910282  | loss: 108.112430763\n",
      "20  | test: 220.935060674  | loss: 33.7607732773\n",
      "30  | test: 232.364650864  | loss: 25.4544576645\n",
      "40  | test: 229.276916826  | loss: 23.1096376419\n",
      "50  | test: 224.76734189  | loss: 22.4220310211\n",
      "60  | test: 209.361417065  | loss: 21.8091495514\n",
      "70  | test: 179.976261476  | loss: 19.2212211609\n",
      "80  | test: 168.774921613  | loss: 17.7994955063\n",
      "90  | test: 142.438220016  | loss: 16.3742483139\n",
      "100  | test: 75.0110902865  | loss: 11.0027050018\n",
      "110  | test: 50.4768178881  | loss: 6.4914305687\n",
      "120  | test: 46.1373097048  | loss: 5.04239706993\n",
      "130  | test: 46.7018260206  | loss: 5.02037754059\n",
      "140  | test: 45.5759450909  | loss: 4.96273603439\n",
      "150  | test: 44.9112809783  | loss: 4.86424064636\n",
      "160  | test: 39.3247672736  | loss: 4.6945710659\n",
      "170  | test: 26.5430173743  | loss: 3.49468214512\n",
      "180  | test: 16.894881752  | loss: 2.31287429333\n",
      "190  | test: 12.5652700504  | loss: 1.58682587147\n",
      "200  | test: 8.57791836966  | loss: 1.10861269236\n",
      "210  | test: 6.34229232165  | loss: 0.800715744495\n",
      "220  | test: 4.78482530619  | loss: 0.596705776453\n",
      "230  | test: 3.9404674905  | loss: 0.464161300659\n",
      "240  | test: 3.33556031299  | loss: 0.381593155861\n",
      "250  | test: 2.91686308197  | loss: 0.326471954584\n",
      "260  | test: 2.56989969568  | loss: 0.284613192081\n",
      "270  | test: 2.26535540066  | loss: 0.249753314257\n",
      "280  | test: 1.98995033082  | loss: 0.219001571834\n",
      "290  | test: 1.74147213456  | loss: 0.191227856278\n",
      "300  | test: 1.52779572518  | loss: 0.166681516171\n",
      "310  | test: 1.35503957774  | loss: 0.146444028616\n",
      "320  | test: 1.21007493023  | loss: 0.130159895867\n",
      "330  | test: 1.08147607556  | loss: 0.116182538122\n",
      "340  | test: 0.967621730216  | loss: 0.103801366687\n",
      "350  | test: 0.867802794669  | loss: 0.092924952507\n",
      "360  | test: 0.780531361737  | loss: 0.0834118403494\n",
      "370  | test: 0.704089686057  | loss: 0.0750809542835\n",
      "380  | test: 0.636957473015  | loss: 0.0677678316832\n",
      "390  | test: 0.577860310671  | loss: 0.0613354820758\n",
      "400  | test: 0.525701805687  | loss: 0.0556671071798\n",
      "410  | test: 0.479564029351  | loss: 0.0506615232676\n",
      "420  | test: 0.438660080988  | loss: 0.0462315026671\n",
      "430  | test: 0.402319998021  | loss: 0.0423023879528\n",
      "440  | test: 0.369965951123  | loss: 0.038810428232\n",
      "450  | test: 0.34110058884  | loss: 0.0357010643929\n",
      "460  | test: 0.315298297668  | loss: 0.032927338779\n",
      "470  | test: 0.292190965228  | loss: 0.030448631756\n",
      "480  | test: 0.271458070285  | loss: 0.0282297525555\n",
      "490  | test: 0.252822453334  | loss: 0.026239981316\n",
      "500  | test: 0.236040839085  | loss: 0.0244525320828\n",
      "510  | test: 0.22090123621  | loss: 0.022843988426\n",
      "520  | test: 0.207218407226  | loss: 0.0213938159868\n",
      "530  | test: 0.194829512374  | loss: 0.0200840160251\n",
      "540  | test: 0.183592218124  | loss: 0.0188988596201\n",
      "550  | test: 0.173381065676  | loss: 0.0178245462477\n",
      "560  | test: 0.164085732211  | loss: 0.0168489569798\n",
      "570  | test: 0.155609371696  | loss: 0.0159614325501\n",
      "580  | test: 0.147866464584  | loss: 0.0151525638998\n",
      "590  | test: 0.140781328006  | loss: 0.0144141201861\n",
      "600  | test: 0.13428636568  | loss: 0.0137387612835\n",
      "610  | test: 0.128322486507  | loss: 0.0131200062111\n",
      "620  | test: 0.122836756732  | loss: 0.0125521319918\n",
      "630  | test: 0.117781836363  | loss: 0.012030027993\n",
      "640  | test: 0.113116536314  | loss: 0.0115491451696\n",
      "650  | test: 0.108802744173  | loss: 0.0111054429784\n",
      "660  | test: 0.104807341088  | loss: 0.0106953032315\n",
      "670  | test: 0.10109978408  | loss: 0.0103155138902\n",
      "680  | test: 0.0976540097534  | loss: 0.00996314706281\n",
      "690  | test: 0.0944454024776  | loss: 0.00963564189151\n",
      "700  | test: 0.0914528034327  | loss: 0.00933063272387\n",
      "710  | test: 0.0886559540778  | loss: 0.00904608583078\n",
      "720  | test: 0.0860379582779  | loss: 0.00878010224551\n",
      "730  | test: 0.0835826504298  | loss: 0.00853100707754\n",
      "740  | test: 0.081276266387  | loss: 0.00829728133976\n",
      "750  | test: 0.0791059874728  | loss: 0.00807756027207\n",
      "760  | test: 0.0770599239906  | loss: 0.00787067171186\n",
      "770  | test: 0.0751281288825  | loss: 0.00767548130825\n",
      "780  | test: 0.0733012370679  | loss: 0.00749102858827\n",
      "790  | test: 0.0715705600737  | loss: 0.00731643028557\n",
      "800  | test: 0.0699290324572  | loss: 0.00715089486912\n",
      "810  | test: 0.0683696477185  | loss: 0.00699373343959\n",
      "820  | test: 0.0668863038811  | loss: 0.00684429081157\n",
      "830  | test: 0.0654736007415  | loss: 0.0067020165734\n",
      "840  | test: 0.0641259802534  | loss: 0.00656638150103\n",
      "850  | test: 0.0628397752614  | loss: 0.00643692882732\n",
      "860  | test: 0.0616134154851  | loss: 0.0063132498879\n",
      "870  | test: 0.0606214550516  | loss: 0.00619666962884\n",
      "880  | test: 0.167352984178  | loss: 0.00719414837658\n",
      "890  | test: 0.630709888435  | loss: 0.0648543296382\n",
      "900  | test: 0.269664060262  | loss: 0.0321941956878\n",
      "910  | test: 0.0587693054411  | loss: 0.0143537549768\n",
      "920  | test: 0.0741853108048  | loss: 0.00824752692133\n",
      "930  | test: 0.0656321603092  | loss: 0.00679749380797\n",
      "940  | test: 0.0565807936574  | loss: 0.00600011441857\n",
      "950  | test: 0.0541795127686  | loss: 0.00564731243066\n",
      "960  | test: 0.0529101857794  | loss: 0.0054805489257\n",
      "970  | test: 0.0520777969176  | loss: 0.00537000438198\n",
      "980  | test: 0.0513072324467  | loss: 0.00528156203218\n",
      "990  | test: 0.0504878421655  | loss: 0.00520311072469\n"
     ]
    }
   ],
   "source": [
    "num_steps = 1000 #2000\n",
    "n_logging = 10\n",
    "n_test_logg = 10\n",
    "\n",
    "tf.initialize_all_variables().run()\n",
    "print('Initialized')\n",
    "\n",
    "mean_loss= 0\n",
    "train_accuracy= 0\n",
    "for step in range(num_steps):\n",
    "    batch_X= train_X\n",
    "    batch_y= train_y\n",
    "    \n",
    "        \n",
    "    feed_dict = {train.inputs : batch_X, train.labels : batch_y, drop_prob:1.0}\n",
    "    \n",
    "    _, l, train_pred = sess.run([optimizer, train.loss, train.y],feed_dict=feed_dict)\n",
    "    mean_loss += l    \n",
    "    \n",
    "    if step%n_logging == 0:                \n",
    "        # test\n",
    "        pred = test.y.eval(feed_dict={test.inputs: test_X, drop_prob: 1.0})\n",
    "            \n",
    "        test_error = np.sum( np.power(pred-test_y, 2.0) )/2.0\n",
    "        \n",
    "        # print            \n",
    "        print(step, ' | test:', test_error, ' | loss:', mean_loss/n_logging)\n",
    "        mean_loss= 0\n",
    "        "
   ]
  },
  {
   "cell_type": "code",
   "execution_count": 8,
   "metadata": {
    "collapsed": false
   },
   "outputs": [
    {
     "data": {
      "text/plain": [
       "[<matplotlib.lines.Line2D at 0x7ff08808e2b0>]"
      ]
     },
     "execution_count": 8,
     "metadata": {},
     "output_type": "execute_result"
    },
    {
     "data": {
      "image/png": "[encoded data removed]",
      "text/plain": [
       "<matplotlib.figure.Figure at 0x7ff0ec1d86d8>"
      ]
     },
     "metadata": {},
     "output_type": "display_data"
    }
   ],
   "source": [
    "%matplotlib inline\n",
    "import matplotlib.pyplot as plt\n",
    "\n",
    "pred = train.y.eval(feed_dict={train.inputs: train_X, drop_prob: 1.0})\n",
    "\n",
    "plt.plot(np.arange(pred.shape[0]), pred)\n",
    "plt.plot(np.arange(pred.shape[0]), pred, 'ro')\n",
    "\n",
    "plt.plot(np.arange(train_y.shape[0]), train_y)\n"
   ]
  },
  {
   "cell_type": "code",
   "execution_count": 9,
   "metadata": {
    "collapsed": false
   },
   "outputs": [
    {
     "data": {
      "text/plain": [
       "[<matplotlib.lines.Line2D at 0x7ff0701b4d68>]"
      ]
     },
     "execution_count": 9,
     "metadata": {},
     "output_type": "execute_result"
    },
    {
     "data": {
      "image/png": "[encoded data removed]",
      "text/plain": [
       "<matplotlib.figure.Figure at 0x7ff0880e2940>"
      ]
     },
     "metadata": {},
     "output_type": "display_data"
    }
   ],
   "source": [
    "pred = test.y.eval(feed_dict={test.inputs: test_X, drop_prob: 1.0})\n",
    "\n",
    "plt.plot(np.arange(pred.shape[0]), pred)\n",
    "plt.plot(np.arange(pred.shape[0]), pred, 'ro')\n",
    "plt.plot(np.arange(test_y.shape[0]), test_y)\n"
   ]
  },
  {
   "cell_type": "code",
   "execution_count": null,
   "metadata": {
    "collapsed": true
   },
   "outputs": [],
   "source": []
  }
 ],
 "metadata": {
  "anaconda-cloud": {},
  "kernelspec": {
   "display_name": "Python [Root]",
   "language": "python",
   "name": "Python [Root]"
  },
  "language_info": {
   "codemirror_mode": {
    "name": "ipython",
    "version": 3
   },
   "file_extension": ".py",
   "mimetype": "text/x-python",
   "name": "python",
   "nbconvert_exporter": "python",
   "pygments_lexer": "ipython3",
   "version": "3.5.2"
  }
 },
 "nbformat": 4,
 "nbformat_minor": 0
}
