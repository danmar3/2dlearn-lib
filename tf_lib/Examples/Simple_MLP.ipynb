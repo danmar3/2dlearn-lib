{
 "cells": [
  {
   "cell_type": "markdown",
   "metadata": {},
   "source": [
    "# Test for a simple regression problem"
   ]
  },
  {
   "cell_type": "code",
   "execution_count": 1,
   "metadata": {
    "collapsed": false
   },
   "outputs": [],
   "source": [
    "from __future__ import absolute_import\n",
    "from __future__ import division\n",
    "from __future__ import print_function\n",
    "\n",
    "import tensorflow as tf\n",
    "import numpy as np\n",
    "\n",
    "import sys\n",
    "sys.path.append('../')\n",
    "from Feedforward import *\n",
    "from Batch_generator import *"
   ]
  },
  {
   "cell_type": "markdown",
   "metadata": {},
   "source": [
    "## 1. Create Dataset"
   ]
  },
  {
   "cell_type": "code",
   "execution_count": 2,
   "metadata": {
    "collapsed": false
   },
   "outputs": [
    {
     "name": "stdout",
     "output_type": "stream",
     "text": [
      "(100, 1)\n",
      "(100, 1)\n"
     ]
    }
   ],
   "source": [
    "train_X= np.expand_dims(np.linspace(0,10,100), -1)\n",
    "train_y= np.sin(train_X)\n",
    "\n",
    "test_X= np.expand_dims(np.linspace(0,10,1000), -1)\n",
    "test_y= np.sin(test_X)\n",
    "\n",
    "n_features= 1\n",
    "\n",
    "print(train_X.shape)\n",
    "print(train_y.shape)"
   ]
  },
  {
   "cell_type": "markdown",
   "metadata": {},
   "source": [
    "#### normalization"
   ]
  },
  {
   "cell_type": "code",
   "execution_count": 3,
   "metadata": {
    "collapsed": false
   },
   "outputs": [
    {
     "name": "stdout",
     "output_type": "stream",
     "text": [
      "[ 1.]\n",
      "[ 0.99104005]\n"
     ]
    }
   ],
   "source": [
    "std_data= np.std(train_X, 0)\n",
    "mean_data= np.mean(train_X, 0)\n",
    "\n",
    "for i in range(n_features):\n",
    "    train_X[:,i]= (train_X[:,i]-mean_data[i])/std_data[i]\n",
    "    test_X[:,i]= (test_X[:,i]-mean_data[i])/std_data[i]\n",
    "print(np.std(train_X,0))\n",
    "print(np.std(test_X,0))"
   ]
  },
  {
   "cell_type": "markdown",
   "metadata": {},
   "source": [
    "## 2. Batch Generators"
   ]
  },
  {
   "cell_type": "code",
   "execution_count": 4,
   "metadata": {
    "collapsed": false
   },
   "outputs": [],
   "source": [
    "batch_size = train_X.shape[0] #50\n",
    "batch_size_test= test_X.shape[0]"
   ]
  },
  {
   "cell_type": "markdown",
   "metadata": {},
   "source": [
    "## 2. Define the Model"
   ]
  },
  {
   "cell_type": "code",
   "execution_count": 5,
   "metadata": {
    "collapsed": false
   },
   "outputs": [],
   "source": [
    "sess = tf.InteractiveSession()"
   ]
  },
  {
   "cell_type": "code",
   "execution_count": 6,
   "metadata": {
    "collapsed": false
   },
   "outputs": [],
   "source": [
    "# Network parameters\n",
    "n_inputs= n_features\n",
    "n_outputs=  1\n",
    "n_hidden = [10]\n",
    "\n",
    "# for dropout\n",
    "drop_prob = tf.placeholder(tf.float32)\n",
    "\n",
    "# Define MLP Net\n",
    "mlp_net= MlpNet( n_inputs, n_outputs, n_hidden, afunction= tf.sigmoid ,name='MlpNet')\n",
    "\n",
    "# Define train setup\n",
    "train= mlp_net.setup(batch_size, drop_prob, l2_reg_coef= 0.000001, loss_type='l2')\n",
    "# Define test setup\n",
    "test= mlp_net.setup(batch_size_test, drop_prob)\n",
    "\n",
    "\n",
    "# Optimizer.\n",
    "optimizer = tf.train.AdamOptimizer(0.5).minimize(train.loss) #0.001"
   ]
  },
  {
   "cell_type": "markdown",
   "metadata": {},
   "source": [
    "## 3. Train the model"
   ]
  },
  {
   "cell_type": "code",
   "execution_count": 7,
   "metadata": {
    "collapsed": false
   },
   "outputs": [
    {
     "name": "stdout",
     "output_type": "stream",
     "text": [
      "Initialized\n",
      "0  | test: 4877.21338343  | loss: 2.29608211517\n",
      "10  | test: 283.674584946  | loss: 120.221941566\n",
      "20  | test: 230.246230038  | loss: 35.8433465958\n",
      "30  | test: 241.132471188  | loss: 25.5881702423\n",
      "40  | test: 214.393056129  | loss: 22.2679168701\n",
      "50  | test: 182.678988437  | loss: 19.1432588577\n",
      "60  | test: 171.130942938  | loss: 17.8682094574\n",
      "70  | test: 157.764293416  | loss: 16.7141771317\n",
      "80  | test: 103.143764218  | loss: 13.9354172707\n",
      "90  | test: 59.8378303273  | loss: 8.23222165108\n",
      "100  | test: 46.4621777948  | loss: 5.4693780899\n",
      "110  | test: 46.1463704213  | loss: 4.92657580376\n",
      "120  | test: 46.0441325506  | loss: 4.9681491375\n",
      "130  | test: 45.3465172324  | loss: 4.90802693367\n",
      "140  | test: 44.9218928014  | loss: 4.84957327843\n",
      "150  | test: 44.0746766773  | loss: 4.79438633919\n",
      "160  | test: 37.2964205137  | loss: 4.53607082367\n",
      "170  | test: 25.678783488  | loss: 3.33191683292\n",
      "180  | test: 13.9356713586  | loss: 2.11706733704\n",
      "190  | test: 7.48318668174  | loss: 1.07080820203\n",
      "200  | test: 5.32783388121  | loss: 0.646647769213\n",
      "210  | test: 4.46216648796  | loss: 0.504290258884\n",
      "220  | test: 3.73043697778  | loss: 0.415338361263\n",
      "230  | test: 3.28182595191  | loss: 0.356639003754\n",
      "240  | test: 2.89117145282  | loss: 0.313575088978\n",
      "250  | test: 2.56272518371  | loss: 0.2766310215\n",
      "260  | test: 2.27675602225  | loss: 0.245474159718\n",
      "270  | test: 2.02717726315  | loss: 0.218256369233\n",
      "280  | test: 1.80883611208  | loss: 0.194475232065\n",
      "290  | test: 1.61687766314  | loss: 0.173628783226\n",
      "300  | test: 1.44754952035  | loss: 0.155294725299\n",
      "310  | test: 1.29813367854  | loss: 0.139133892953\n",
      "320  | test: 1.1663133343  | loss: 0.124874532968\n",
      "330  | test: 1.05001271712  | loss: 0.112287659943\n",
      "340  | test: 0.947398912996  | loss: 0.101176445931\n",
      "350  | test: 0.85686960832  | loss: 0.0913685381413\n",
      "360  | test: 0.776987420706  | loss: 0.0827108837664\n",
      "370  | test: 0.706437662019  | loss: 0.075064393878\n",
      "380  | test: 0.644031741738  | loss: 0.0683026321232\n",
      "390  | test: 0.588704501653  | loss: 0.0623115625232\n",
      "400  | test: 0.539527876405  | loss: 0.0569903578609\n",
      "410  | test: 0.495698594012  | loss: 0.0522521581501\n",
      "420  | test: 0.45652967847  | loss: 0.048022795096\n",
      "430  | test: 0.421433587562  | loss: 0.0442391857505\n",
      "440  | test: 0.389906290409  | loss: 0.040847151354\n",
      "450  | test: 0.361518394997  | loss: 0.0377996828407\n",
      "460  | test: 0.335903191678  | loss: 0.035055981949\n",
      "470  | test: 0.312746079563  | loss: 0.0325806092471\n",
      "480  | test: 0.291771478427  | loss: 0.0303428703919\n",
      "490  | test: 0.272737800708  | loss: 0.028315936774\n",
      "500  | test: 0.255431582229  | loss: 0.0264763699844\n",
      "510  | test: 0.239665890357  | loss: 0.0248036941513\n",
      "520  | test: 0.225276016093  | loss: 0.0232798941433\n",
      "530  | test: 0.21211863587  | loss: 0.0218892272562\n",
      "540  | test: 0.200066758092  | loss: 0.0206178080291\n",
      "550  | test: 0.189008830497  | loss: 0.0194534271955\n",
      "560  | test: 0.178846578792  | loss: 0.0183853065595\n",
      "570  | test: 0.169492265952  | loss: 0.0174039235339\n",
      "580  | test: 0.160868577392  | loss: 0.0165008088574\n",
      "590  | test: 0.152906260629  | loss: 0.0156685019843\n",
      "600  | test: 0.145544115141  | loss: 0.0149002891034\n",
      "610  | test: 0.138727401178  | loss: 0.0141902451403\n",
      "620  | test: 0.132407122954  | loss: 0.0135330418125\n",
      "630  | test: 0.126539124707  | loss: 0.0129239277914\n",
      "640  | test: 0.121084236657  | loss: 0.0123586706817\n",
      "650  | test: 0.116006753663  | loss: 0.0118333927356\n",
      "660  | test: 0.111274882005  | loss: 0.0113446692005\n",
      "670  | test: 0.106859393001  | loss: 0.0108893858269\n",
      "680  | test: 0.102734446891  | loss: 0.010464712698\n",
      "690  | test: 0.0988762782522  | loss: 0.0100681271404\n",
      "700  | test: 0.0952632635165  | loss: 0.00969729330391\n",
      "710  | test: 0.091875838563  | loss: 0.00935016311705\n",
      "720  | test: 0.088696569142  | loss: 0.00902478499338\n",
      "730  | test: 0.085709017237  | loss: 0.00871946457773\n",
      "740  | test: 0.0828983616615  | loss: 0.0084325838834\n",
      "750  | test: 0.0802509282938  | loss: 0.00816269014031\n",
      "760  | test: 0.0777544098207  | loss: 0.00790847530589\n",
      "770  | test: 0.0753972560381  | loss: 0.00766872717068\n",
      "780  | test: 0.073169106232  | loss: 0.00744230560958\n",
      "790  | test: 0.0710603366396  | loss: 0.00722818383947\n",
      "800  | test: 0.0690619693829  | loss: 0.00702542508952\n",
      "810  | test: 0.0671659153547  | loss: 0.0068331793882\n",
      "820  | test: 0.0653645047107  | loss: 0.00665061296895\n",
      "830  | test: 0.0636508966785  | loss: 0.00647699171677\n",
      "840  | test: 0.0620185716699  | loss: 0.00631162468344\n",
      "850  | test: 0.0604617840633  | loss: 0.00615392718464\n",
      "860  | test: 0.0589749516619  | loss: 0.00600330908783\n",
      "870  | test: 0.0575533086143  | loss: 0.00585926966742\n",
      "880  | test: 0.0561925546205  | loss: 0.00572134242393\n",
      "890  | test: 0.0548884501152  | loss: 0.00558908595704\n",
      "900  | test: 0.0536368794972  | loss: 0.0054621736519\n",
      "910  | test: 0.0524354618295  | loss: 0.00534024378285\n",
      "920  | test: 0.051280202349  | loss: 0.0052230139263\n",
      "930  | test: 0.0501689846719  | loss: 0.00511019560508\n",
      "940  | test: 0.0490999748594  | loss: 0.00500158416107\n",
      "950  | test: 0.0480756663122  | loss: 0.00489695817232\n",
      "960  | test: 0.0475751657023  | loss: 0.00480090319179\n",
      "970  | test: 0.36191487729  | loss: 0.00808734390885\n",
      "980  | test: 0.200382894568  | loss: 0.0478320276365\n",
      "990  | test: 0.0516302035291  | loss: 0.0154080758337\n"
     ]
    }
   ],
   "source": [
    "num_steps = 1000 #2000\n",
    "n_logging = 10\n",
    "n_test_logg = 10\n",
    "\n",
    "tf.initialize_all_variables().run()\n",
    "print('Initialized')\n",
    "\n",
    "mean_loss= 0\n",
    "train_accuracy= 0\n",
    "for step in range(num_steps):\n",
    "    batch_X= train_X\n",
    "    batch_y= train_y\n",
    "    \n",
    "        \n",
    "    feed_dict = {train.inputs : batch_X, train.labels : batch_y, drop_prob:1.0}\n",
    "    \n",
    "    _, l, train_pred = sess.run([optimizer, train.loss, train.y],feed_dict=feed_dict)\n",
    "    mean_loss += l    \n",
    "    \n",
    "    if step%n_logging == 0:                \n",
    "        # test\n",
    "        pred = test.y.eval(feed_dict={test.inputs: test_X, drop_prob: 1.0})\n",
    "            \n",
    "        test_error = np.sum( np.power(pred-test_y, 2.0) )/2.0\n",
    "        \n",
    "        # print            \n",
    "        print(step, ' | test:', test_error, ' | loss:', mean_loss/n_logging)\n",
    "        mean_loss= 0\n",
    "        "
   ]
  },
  {
   "cell_type": "code",
   "execution_count": 8,
   "metadata": {
    "collapsed": false
   },
   "outputs": [
    {
     "data": {
      "text/plain": [
       "[<matplotlib.lines.Line2D at 0x7fdd601cdb38>]"
      ]
     },
     "execution_count": 8,
     "metadata": {},
     "output_type": "execute_result"
    },
    {
     "data": {
      "image/png": "[encoded data removed]",
      "text/plain": [
       "<matplotlib.figure.Figure at 0x7fdea804ffd0>"
      ]
     },
     "metadata": {},
     "output_type": "display_data"
    }
   ],
   "source": [
    "%matplotlib inline\n",
    "import matplotlib.pyplot as plt\n",
    "\n",
    "pred = train.y.eval(feed_dict={train.inputs: train_X, drop_prob: 1.0})\n",
    "\n",
    "plt.plot(np.arange(pred.shape[0]), pred)\n",
    "plt.plot(np.arange(pred.shape[0]), pred, 'ro')\n",
    "\n",
    "plt.plot(np.arange(train_y.shape[0]), train_y)\n"
   ]
  },
  {
   "cell_type": "code",
   "execution_count": 9,
   "metadata": {
    "collapsed": false
   },
   "outputs": [
    {
     "data": {
      "text/plain": [
       "[<matplotlib.lines.Line2D at 0x7fdd600f1668>]"
      ]
     },
     "execution_count": 9,
     "metadata": {},
     "output_type": "execute_result"
    },
    {
     "data": {
      "image/png": "[encoded data removed]",
      "text/plain": [
       "<matplotlib.figure.Figure at 0x7fdd6019d550>"
      ]
     },
     "metadata": {},
     "output_type": "display_data"
    }
   ],
   "source": [
    "pred = test.y.eval(feed_dict={test.inputs: test_X, drop_prob: 1.0})\n",
    "\n",
    "plt.plot(np.arange(pred.shape[0]), pred)\n",
    "plt.plot(np.arange(pred.shape[0]), pred, 'ro')\n",
    "plt.plot(np.arange(test_y.shape[0]), test_y)\n"
   ]
  },
  {
   "cell_type": "code",
   "execution_count": null,
   "metadata": {
    "collapsed": true
   },
   "outputs": [],
   "source": []
  }
 ],
 "metadata": {
  "anaconda-cloud": {},
  "kernelspec": {
   "display_name": "Python [Root]",
   "language": "python",
   "name": "Python [Root]"
  },
  "language_info": {
   "codemirror_mode": {
    "name": "ipython",
    "version": 3
   },
   "file_extension": ".py",
   "mimetype": "text/x-python",
   "name": "python",
   "nbconvert_exporter": "python",
   "pygments_lexer": "ipython3",
   "version": "3.5.2"
  }
 },
 "nbformat": 4,
 "nbformat_minor": 0
}
