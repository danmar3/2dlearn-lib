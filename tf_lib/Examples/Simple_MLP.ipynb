{
 "cells": [
  {
   "cell_type": "markdown",
   "metadata": {},
   "source": [
    "# Test for a simple regression problem"
   ]
  },
  {
   "cell_type": "code",
   "execution_count": 1,
   "metadata": {
    "collapsed": false
   },
   "outputs": [],
   "source": [
    "from __future__ import absolute_import\n",
    "from __future__ import division\n",
    "from __future__ import print_function\n",
    "\n",
    "import tensorflow as tf\n",
    "import numpy as np\n",
    "\n",
    "import sys\n",
    "sys.path.append('../')\n",
    "from Feedforward import *\n",
    "from Batch_generator import *"
   ]
  },
  {
   "cell_type": "markdown",
   "metadata": {},
   "source": [
    "## 1. Create Dataset"
   ]
  },
  {
   "cell_type": "code",
   "execution_count": 2,
   "metadata": {
    "collapsed": false
   },
   "outputs": [
    {
     "name": "stdout",
     "output_type": "stream",
     "text": [
      "(100, 1)\n",
      "(100, 1)\n"
     ]
    }
   ],
   "source": [
    "train_X= np.expand_dims(np.linspace(0,10,100), -1)\n",
    "train_y= np.sin(train_X)\n",
    "\n",
    "test_X= np.expand_dims(np.linspace(0,10,1000), -1)\n",
    "test_y= np.sin(test_X)\n",
    "\n",
    "n_features= 1\n",
    "\n",
    "print(train_X.shape)\n",
    "print(train_y.shape)"
   ]
  },
  {
   "cell_type": "markdown",
   "metadata": {},
   "source": [
    "#### normalization"
   ]
  },
  {
   "cell_type": "code",
   "execution_count": 3,
   "metadata": {
    "collapsed": false
   },
   "outputs": [
    {
     "name": "stdout",
     "output_type": "stream",
     "text": [
      "[ 1.]\n",
      "[ 0.99104005]\n"
     ]
    }
   ],
   "source": [
    "std_data= np.std(train_X, 0)\n",
    "mean_data= np.mean(train_X, 0)\n",
    "\n",
    "for i in range(n_features):\n",
    "    train_X[:,i]= (train_X[:,i]-mean_data[i])/std_data[i]\n",
    "    test_X[:,i]= (test_X[:,i]-mean_data[i])/std_data[i]\n",
    "print(np.std(train_X,0))\n",
    "print(np.std(test_X,0))"
   ]
  },
  {
   "cell_type": "markdown",
   "metadata": {},
   "source": [
    "## 2. Batch Generators"
   ]
  },
  {
   "cell_type": "code",
   "execution_count": 4,
   "metadata": {
    "collapsed": false
   },
   "outputs": [],
   "source": [
    "batch_size = train_X.shape[0] #50\n",
    "batch_size_test= test_X.shape[0]"
   ]
  },
  {
   "cell_type": "markdown",
   "metadata": {},
   "source": [
    "## 2. Define the Model"
   ]
  },
  {
   "cell_type": "code",
   "execution_count": 5,
   "metadata": {
    "collapsed": false
   },
   "outputs": [],
   "source": [
    "sess = tf.InteractiveSession()"
   ]
  },
  {
   "cell_type": "code",
   "execution_count": 6,
   "metadata": {
    "collapsed": false
   },
   "outputs": [],
   "source": [
    "# Network parameters\n",
    "n_inputs= n_features\n",
    "n_outputs=  1\n",
    "n_hidden = [10]\n",
    "\n",
    "# for dropout\n",
    "drop_prob = tf.placeholder(tf.float32)\n",
    "\n",
    "# Define MLP Net\n",
    "mlp_net= MlpNet( n_inputs, n_outputs, n_hidden, afunction= tf.sigmoid ,name='MlpNet')\n",
    "\n",
    "# Define train setup\n",
    "train= mlp_net.setup(batch_size, drop_prob, l2_reg_coef= 0.000001, loss_type='l2')\n",
    "# Define test setup\n",
    "test= mlp_net.setup(batch_size_test, drop_prob)\n",
    "\n",
    "\n",
    "# Optimizer.\n",
    "optimizer = tf.train.AdamOptimizer(0.5).minimize(train.loss) #0.001"
   ]
  },
  {
   "cell_type": "markdown",
   "metadata": {},
   "source": [
    "## 3. Train the model"
   ]
  },
  {
   "cell_type": "code",
   "execution_count": 7,
   "metadata": {
    "collapsed": false
   },
   "outputs": [
    {
     "name": "stdout",
     "output_type": "stream",
     "text": [
      "Initialized\n",
      "0  | test: 4463.08848084  | loss: 2.65041980743\n",
      "10  | test: 294.309975459  | loss: 110.964001274\n",
      "20  | test: 223.214266576  | loss: 35.0223356247\n",
      "30  | test: 235.904642729  | loss: 25.6587024689\n",
      "40  | test: 231.977238822  | loss: 23.0726444244\n",
      "50  | test: 226.733124779  | loss: 22.4694587708\n",
      "60  | test: 222.302012694  | loss: 22.2126441956\n",
      "70  | test: 219.632530881  | loss: 22.0276033401\n",
      "80  | test: 197.129896729  | loss: 21.2832849503\n",
      "90  | test: 179.186791523  | loss: 18.3552101135\n",
      "100  | test: 163.752518088  | loss: 17.4126186371\n",
      "110  | test: 157.968224915  | loss: 16.4742357254\n",
      "120  | test: 116.012834697  | loss: 14.9177856445\n",
      "130  | test: 63.0307664093  | loss: 9.01199760437\n",
      "140  | test: 46.5603232125  | loss: 5.59060044289\n",
      "150  | test: 47.1814263417  | loss: 4.99417433739\n",
      "160  | test: 45.73097838  | loss: 5.02667822838\n",
      "170  | test: 42.584845785  | loss: 4.74278855324\n",
      "180  | test: 40.2002151902  | loss: 4.42730202675\n",
      "190  | test: 38.6108746715  | loss: 4.18715224266\n",
      "200  | test: 37.7603927277  | loss: 4.0793156147\n",
      "210  | test: 37.370048849  | loss: 4.00219764709\n",
      "220  | test: 36.9752377193  | loss: 3.95778048038\n",
      "230  | test: 36.6677411041  | loss: 3.92102365494\n",
      "240  | test: 36.4152716157  | loss: 3.89088041782\n",
      "250  | test: 36.1912578253  | loss: 3.86533420086\n",
      "260  | test: 35.9924775265  | loss: 3.8430973053\n",
      "270  | test: 35.8238066826  | loss: 3.82381651402\n",
      "280  | test: 35.6796682996  | loss: 3.80715339184\n",
      "290  | test: 35.5548825929  | loss: 3.79282069206\n",
      "300  | test: 35.4465168843  | loss: 3.78045701981\n",
      "310  | test: 35.3495628197  | loss: 3.76959354877\n",
      "320  | test: 35.2523773398  | loss: 3.75942702293\n",
      "330  | test: 35.1075530056  | loss: 3.74759421349\n",
      "340  | test: 34.0973256245  | loss: 3.71347107887\n",
      "350  | test: 20.2341533131  | loss: 2.8411469698\n",
      "360  | test: 5.95475350057  | loss: 1.32463653684\n",
      "370  | test: 3.81187661371  | loss: 0.50227367878\n",
      "380  | test: 2.53830294631  | loss: 0.325714302063\n",
      "390  | test: 2.02747170809  | loss: 0.228675602376\n",
      "400  | test: 1.60163248045  | loss: 0.182351712883\n",
      "410  | test: 1.32709841182  | loss: 0.147200961411\n",
      "420  | test: 1.11605069727  | loss: 0.122677925229\n",
      "430  | test: 0.960104298297  | loss: 0.104638563842\n",
      "440  | test: 0.839920584821  | loss: 0.0908366240561\n",
      "450  | test: 0.741798886272  | loss: 0.0798468701541\n",
      "460  | test: 0.659798788255  | loss: 0.0707416057587\n",
      "470  | test: 0.589735878939  | loss: 0.063003397733\n",
      "480  | test: 0.529156259614  | loss: 0.056342144683\n",
      "490  | test: 0.476837176577  | loss: 0.0505904424936\n",
      "500  | test: 0.43155817647  | loss: 0.0456242598593\n",
      "510  | test: 0.392287672586  | loss: 0.0413334045559\n",
      "520  | test: 0.358121412555  | loss: 0.0376170493662\n",
      "530  | test: 0.328280715656  | loss: 0.0343866992742\n",
      "540  | test: 0.302117506987  | loss: 0.0315669551492\n",
      "550  | test: 0.279095800953  | loss: 0.0290948813781\n",
      "560  | test: 0.258760878441  | loss: 0.0269187623635\n",
      "570  | test: 0.240740314557  | loss: 0.0249960480258\n",
      "580  | test: 0.224717749207  | loss: 0.0232913803309\n",
      "590  | test: 0.210427591352  | loss: 0.0217752512544\n",
      "600  | test: 0.197643876229  | loss: 0.0204227203503\n",
      "610  | test: 0.186174943083  | loss: 0.0192127468064\n",
      "620  | test: 0.175857467136  | loss: 0.018127248995\n",
      "630  | test: 0.166550878367  | loss: 0.0171508476138\n",
      "640  | test: 0.158134275358  | loss: 0.0162702996284\n",
      "650  | test: 0.150503758112  | loss: 0.0154742090963\n",
      "660  | test: 0.143569388948  | loss: 0.0147527134046\n",
      "670  | test: 0.137252694321  | loss: 0.0140972386114\n",
      "680  | test: 0.13148580797  | loss: 0.0135003676638\n",
      "690  | test: 0.126208737564  | loss: 0.0129556065425\n",
      "700  | test: 0.121369178225  | loss: 0.0124572522007\n",
      "710  | test: 0.116920951915  | loss: 0.0120002988726\n",
      "720  | test: 0.112823776925  | loss: 0.0115804088302\n",
      "730  | test: 0.109048172308  | loss: 0.0111937813461\n",
      "740  | test: 0.108934669032  | loss: 0.0108757279813\n",
      "750  | test: 0.680187066341  | loss: 0.0326436134987\n",
      "760  | test: 0.190638347376  | loss: 0.0318876179866\n",
      "770  | test: 0.152873510565  | loss: 0.0171465912834\n",
      "780  | test: 0.09528785278  | loss: 0.0123627599329\n",
      "790  | test: 0.0969316682616  | loss: 0.0103305480443\n",
      "800  | test: 0.0913520559364  | loss: 0.00956170810387\n",
      "810  | test: 0.0878771146  | loss: 0.00913625126705\n",
      "820  | test: 0.0861519835662  | loss: 0.00885670622811\n",
      "830  | test: 0.0838926979673  | loss: 0.00863855723292\n",
      "840  | test: 0.0819235009302  | loss: 0.0084420057945\n",
      "850  | test: 0.0801294214396  | loss: 0.00826349677518\n",
      "860  | test: 0.0784319522788  | loss: 0.00809653699398\n",
      "870  | test: 0.0768615668142  | loss: 0.00793894417584\n",
      "880  | test: 0.0756443216143  | loss: 0.00779496873729\n",
      "890  | test: 0.100779045267  | loss: 0.00807970226742\n",
      "900  | test: 0.514565165645  | loss: 0.0416819113307\n",
      "910  | test: 0.1732381988  | loss: 0.0238194910809\n",
      "920  | test: 0.0716418176382  | loss: 0.0146817453206\n",
      "930  | test: 0.0904098946736  | loss: 0.0092688521836\n",
      "940  | test: 0.0702861014917  | loss: 0.00792880309746\n",
      "950  | test: 0.0706485673194  | loss: 0.00732374321669\n",
      "960  | test: 0.0663538552632  | loss: 0.00699821123853\n",
      "970  | test: 0.0651004215805  | loss: 0.00679747052491\n",
      "980  | test: 0.0640623683944  | loss: 0.00667115156539\n",
      "990  | test: 0.0632214565356  | loss: 0.00655882037245\n"
     ]
    }
   ],
   "source": [
    "num_steps = 1000 #2000\n",
    "n_logging = 10\n",
    "n_test_logg = 10\n",
    "\n",
    "tf.initialize_all_variables().run()\n",
    "print('Initialized')\n",
    "\n",
    "mean_loss= 0\n",
    "train_accuracy= 0\n",
    "for step in range(num_steps):\n",
    "    batch_X= train_X\n",
    "    batch_y= train_y\n",
    "    \n",
    "        \n",
    "    feed_dict = {train.inputs : batch_X, train.labels : batch_y, drop_prob:1.0}\n",
    "    \n",
    "    _, l, train_pred = sess.run([optimizer, train.loss, train.y],feed_dict=feed_dict)\n",
    "    mean_loss += l    \n",
    "    \n",
    "    if step%n_logging == 0:                \n",
    "        # test\n",
    "        pred = test.y.eval(feed_dict={test.inputs: test_X, drop_prob: 1.0})\n",
    "            \n",
    "        test_error = np.sum( np.power(pred-test_y, 2.0) )/2.0\n",
    "        \n",
    "        # print            \n",
    "        print(step, ' | test:', test_error, ' | loss:', mean_loss/n_logging)\n",
    "        mean_loss= 0\n",
    "        "
   ]
  },
  {
   "cell_type": "code",
   "execution_count": 8,
   "metadata": {
    "collapsed": false
   },
   "outputs": [
    {
     "data": {
      "text/plain": [
       "[<matplotlib.lines.Line2D at 0x7fb7300def60>]"
      ]
     },
     "execution_count": 8,
     "metadata": {},
     "output_type": "execute_result"
    },
    {
     "data": {
      "image/png": "[encoded data removed]",
      "text/plain": [
       "<matplotlib.figure.Figure at 0x7fb7280fa198>"
      ]
     },
     "metadata": {},
     "output_type": "display_data"
    }
   ],
   "source": [
    "%matplotlib inline\n",
    "import matplotlib.pyplot as plt\n",
    "\n",
    "pred = train.y.eval(feed_dict={train.inputs: train_X, drop_prob: 1.0})\n",
    "\n",
    "plt.plot(np.arange(pred.shape[0]), pred)\n",
    "plt.plot(np.arange(pred.shape[0]), pred, 'ro')\n",
    "\n",
    "plt.plot(np.arange(train_y.shape[0]), train_y)\n"
   ]
  },
  {
   "cell_type": "code",
   "execution_count": 9,
   "metadata": {
    "collapsed": false
   },
   "outputs": [
    {
     "data": {
      "text/plain": [
       "[<matplotlib.lines.Line2D at 0x7fb72806b908>]"
      ]
     },
     "execution_count": 9,
     "metadata": {},
     "output_type": "execute_result"
    },
    {
     "data": {
      "image/png": "[encoded data removed]",
      "text/plain": [
       "<matplotlib.figure.Figure at 0x7fb728022358>"
      ]
     },
     "metadata": {},
     "output_type": "display_data"
    }
   ],
   "source": [
    "pred = test.y.eval(feed_dict={test.inputs: test_X, drop_prob: 1.0})\n",
    "\n",
    "plt.plot(np.arange(pred.shape[0]), pred)\n",
    "plt.plot(np.arange(pred.shape[0]), pred, 'ro')\n",
    "plt.plot(np.arange(test_y.shape[0]), test_y)\n"
   ]
  },
  {
   "cell_type": "code",
   "execution_count": null,
   "metadata": {
    "collapsed": true
   },
   "outputs": [],
   "source": []
  }
 ],
 "metadata": {
  "anaconda-cloud": {},
  "kernelspec": {
   "display_name": "Python [Root]",
   "language": "python",
   "name": "Python [Root]"
  },
  "language_info": {
   "codemirror_mode": {
    "name": "ipython",
    "version": 3
   },
   "file_extension": ".py",
   "mimetype": "text/x-python",
   "name": "python",
   "nbconvert_exporter": "python",
   "pygments_lexer": "ipython3",
   "version": "3.5.2"
  }
 },
 "nbformat": 4,
 "nbformat_minor": 0
}
