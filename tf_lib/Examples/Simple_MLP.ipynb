{
 "cells": [
  {
   "cell_type": "markdown",
   "metadata": {},
   "source": [
    "# Test for a simple regression problem"
   ]
  },
  {
   "cell_type": "code",
   "execution_count": 1,
   "metadata": {
    "collapsed": false
   },
   "outputs": [],
   "source": [
    "from __future__ import absolute_import\n",
    "from __future__ import division\n",
    "from __future__ import print_function\n",
    "\n",
    "import tensorflow as tf\n",
    "import numpy as np\n",
    "\n",
    "import sys\n",
    "sys.path.append('../')\n",
    "from Feedforward import *\n",
    "from Batch_generator import *"
   ]
  },
  {
   "cell_type": "markdown",
   "metadata": {},
   "source": [
    "## 1. Create Dataset"
   ]
  },
  {
   "cell_type": "code",
   "execution_count": 2,
   "metadata": {
    "collapsed": false
   },
   "outputs": [
    {
     "name": "stdout",
     "output_type": "stream",
     "text": [
      "(100, 1)\n",
      "(100, 1)\n"
     ]
    }
   ],
   "source": [
    "train_X= np.expand_dims(np.linspace(0,10,100), -1)\n",
    "train_y= np.sin(train_X)\n",
    "\n",
    "test_X= np.expand_dims(np.linspace(0,10,1000), -1)\n",
    "test_y= np.sin(test_X)\n",
    "\n",
    "n_features= 1\n",
    "\n",
    "print(train_X.shape)\n",
    "print(train_y.shape)"
   ]
  },
  {
   "cell_type": "markdown",
   "metadata": {},
   "source": [
    "#### normalization"
   ]
  },
  {
   "cell_type": "code",
   "execution_count": 3,
   "metadata": {
    "collapsed": false
   },
   "outputs": [
    {
     "name": "stdout",
     "output_type": "stream",
     "text": [
      "[ 1.]\n",
      "[ 0.99104005]\n"
     ]
    }
   ],
   "source": [
    "std_data= np.std(train_X, 0)\n",
    "mean_data= np.mean(train_X, 0)\n",
    "\n",
    "for i in range(n_features):\n",
    "    train_X[:,i]= (train_X[:,i]-mean_data[i])/std_data[i]\n",
    "    test_X[:,i]= (test_X[:,i]-mean_data[i])/std_data[i]\n",
    "print(np.std(train_X,0))\n",
    "print(np.std(test_X,0))"
   ]
  },
  {
   "cell_type": "markdown",
   "metadata": {},
   "source": [
    "## 2. Batch Generators"
   ]
  },
  {
   "cell_type": "code",
   "execution_count": 4,
   "metadata": {
    "collapsed": false
   },
   "outputs": [],
   "source": [
    "batch_size = train_X.shape[0] #50\n",
    "batch_size_test= test_X.shape[0]"
   ]
  },
  {
   "cell_type": "markdown",
   "metadata": {},
   "source": [
    "## 2. Define the Model"
   ]
  },
  {
   "cell_type": "code",
   "execution_count": 5,
   "metadata": {
    "collapsed": false
   },
   "outputs": [],
   "source": [
    "sess = tf.InteractiveSession()"
   ]
  },
  {
   "cell_type": "code",
   "execution_count": 6,
   "metadata": {
    "collapsed": false
   },
   "outputs": [],
   "source": [
    "# Network parameters\n",
    "n_inputs= n_features\n",
    "n_outputs=  1\n",
    "n_hidden = [10]\n",
    "\n",
    "# for dropout\n",
    "drop_prob = tf.placeholder(tf.float32)\n",
    "\n",
    "# Define MLP Net\n",
    "mlp_net= MlpNet( n_inputs, n_outputs, n_hidden, afunction= tf.sigmoid ,name='MlpNet')\n",
    "\n",
    "# Define train setup\n",
    "train= mlp_net.setup(batch_size, drop_prob, l2_reg_coef= 0.000001, loss_type='l2')\n",
    "# Define test setup\n",
    "test= mlp_net.setup(batch_size_test, drop_prob)\n",
    "\n",
    "\n",
    "# Optimizer.\n",
    "optimizer = tf.train.AdamOptimizer(0.5).minimize(train.loss) #0.001"
   ]
  },
  {
   "cell_type": "markdown",
   "metadata": {},
   "source": [
    "## 3. Train the model"
   ]
  },
  {
   "cell_type": "code",
   "execution_count": 7,
   "metadata": {
    "collapsed": false
   },
   "outputs": [
    {
     "name": "stdout",
     "output_type": "stream",
     "text": [
      "Initialized\n",
      "0  | test: 3985.10410767  | loss: 2.50955581665\n",
      "10  | test: 296.753705273  | loss: 99.2223274231\n",
      "20  | test: 222.233831467  | loss: 32.6873666763\n",
      "30  | test: 224.026792956  | loss: 25.220472908\n",
      "40  | test: 222.710848631  | loss: 23.0846406937\n",
      "50  | test: 222.746784235  | loss: 22.3601423264\n",
      "60  | test: 221.703755996  | loss: 22.1791469574\n",
      "70  | test: 221.251062713  | loss: 22.0970159531\n",
      "80  | test: 220.540600664  | loss: 22.0365251541\n",
      "90  | test: 219.677729488  | loss: 21.9581121445\n",
      "100  | test: 218.52370915  | loss: 21.8463508606\n",
      "110  | test: 216.700978073  | loss: 21.7129173279\n",
      "120  | test: 212.668072497  | loss: 21.4639127731\n",
      "130  | test: 187.927627398  | loss: 20.4846094131\n",
      "140  | test: 171.223567614  | loss: 17.3518924713\n",
      "150  | test: 164.308141139  | loss: 16.7694032669\n",
      "160  | test: 161.934685576  | loss: 16.1560842514\n",
      "170  | test: 160.451671622  | loss: 15.9632411003\n",
      "180  | test: 159.455909894  | loss: 15.8576251984\n",
      "190  | test: 158.712108224  | loss: 15.7687107086\n",
      "200  | test: 158.023346874  | loss: 15.6969654083\n",
      "210  | test: 157.344493338  | loss: 15.6298724174\n",
      "220  | test: 156.628023466  | loss: 15.5615956306\n",
      "230  | test: 155.797368546  | loss: 15.4863484383\n",
      "240  | test: 154.743212538  | loss: 15.3955791473\n",
      "250  | test: 153.251293433  | loss: 15.2746591568\n",
      "260  | test: 150.796747855  | loss: 15.0914029121\n",
      "270  | test: 145.775848702  | loss: 14.7565847397\n",
      "280  | test: 131.182570907  | loss: 13.9491428375\n",
      "290  | test: 72.2892290179  | loss: 10.970102787\n",
      "300  | test: 30.7628354878  | loss: 4.6174264431\n",
      "310  | test: 18.748093754  | loss: 2.61385557652\n",
      "320  | test: 15.7869333824  | loss: 1.82829617262\n",
      "330  | test: 12.2410409916  | loss: 1.46255861521\n",
      "340  | test: 11.2483058793  | loss: 1.31273469925\n",
      "350  | test: 9.16511346873  | loss: 1.15352238417\n",
      "360  | test: 5.40354966736  | loss: 0.792714214325\n",
      "370  | test: 3.58511507399  | loss: 0.479535138607\n",
      "380  | test: 2.81420760676  | loss: 0.350528162718\n",
      "390  | test: 2.21715143714  | loss: 0.274603410065\n",
      "400  | test: 1.75220220037  | loss: 0.214085365832\n",
      "410  | test: 1.40429804467  | loss: 0.168681564927\n",
      "420  | test: 1.14614366669  | loss: 0.135400669277\n",
      "430  | test: 0.954489101698  | loss: 0.110921493173\n",
      "440  | test: 0.812300054621  | loss: 0.0928039543331\n",
      "450  | test: 0.705061445007  | loss: 0.0792763970792\n",
      "460  | test: 0.623588306868  | loss: 0.0690592132509\n",
      "470  | test: 0.560636216796  | loss: 0.0612387254834\n",
      "480  | test: 0.511162760515  | loss: 0.0551606398076\n",
      "490  | test: 0.471498801034  | loss: 0.0503560006618\n",
      "500  | test: 0.439091408168  | loss: 0.0464881025255\n",
      "510  | test: 0.412092643684  | loss: 0.043315378949\n",
      "520  | test: 0.389181936509  | loss: 0.0406641479582\n",
      "530  | test: 0.369404486791  | loss: 0.0384089320898\n",
      "540  | test: 0.352055684469  | loss: 0.0364582601935\n",
      "550  | test: 0.33661796544  | loss: 0.0347449757159\n",
      "560  | test: 0.322705399132  | loss: 0.0332193102688\n",
      "570  | test: 0.310028542859  | loss: 0.0318439748138\n",
      "580  | test: 0.298367831952  | loss: 0.0305908393115\n",
      "590  | test: 0.287554484449  | loss: 0.0294385265559\n",
      "600  | test: 0.277459434342  | loss: 0.0283705551177\n",
      "610  | test: 0.267982514332  | loss: 0.0273742748424\n",
      "620  | test: 0.259044495825  | loss: 0.0264396680519\n",
      "630  | test: 0.250582918371  | loss: 0.0255589978769\n",
      "640  | test: 0.242547999021  | loss: 0.0247260019183\n",
      "650  | test: 0.234899394521  | loss: 0.0239357590675\n",
      "660  | test: 0.227603823818  | loss: 0.0231841813773\n",
      "670  | test: 0.22063364682  | loss: 0.0224679559469\n",
      "680  | test: 0.213966504307  | loss: 0.021784283407\n",
      "690  | test: 0.207581682995  | loss: 0.0211308805272\n",
      "700  | test: 0.201462596759  | loss: 0.0205056572333\n",
      "710  | test: 0.195593423072  | loss: 0.0199069594964\n",
      "720  | test: 0.189960603823  | loss: 0.0193331209943\n",
      "730  | test: 0.184553032184  | loss: 0.0187828592956\n",
      "740  | test: 0.179357717339  | loss: 0.0182548407465\n",
      "750  | test: 0.17436519474  | loss: 0.0177479725331\n",
      "760  | test: 0.169565013387  | loss: 0.0172611217946\n",
      "770  | test: 0.164948842126  | loss: 0.0167933557183\n",
      "780  | test: 0.160507111739  | loss: 0.0163437297568\n",
      "790  | test: 0.156231492377  | loss: 0.015911449492\n",
      "800  | test: 0.152449110218  | loss: 0.0155009770766\n",
      "810  | test: 0.304693201006  | loss: 0.01699291775\n",
      "820  | test: 0.338503484051  | loss: 0.0498449612409\n",
      "830  | test: 0.177894693451  | loss: 0.0291347245686\n",
      "840  | test: 0.177491597882  | loss: 0.0173923007213\n",
      "850  | test: 0.135758893669  | loss: 0.0155868604779\n",
      "860  | test: 0.134625725494  | loss: 0.013759560883\n",
      "870  | test: 0.12938706252  | loss: 0.0132423702627\n",
      "880  | test: 0.124955055128  | loss: 0.0127667489462\n",
      "890  | test: 0.121389280006  | loss: 0.0124053503387\n",
      "900  | test: 0.118470924969  | loss: 0.0120977013372\n",
      "910  | test: 0.115525716787  | loss: 0.0118202308193\n",
      "920  | test: 0.112853642306  | loss: 0.0115433087572\n",
      "930  | test: 0.110669792508  | loss: 0.0112976052798\n",
      "940  | test: 0.136750983921  | loss: 0.0115598835982\n",
      "950  | test: 1.81011957573  | loss: 0.0589430692606\n",
      "960  | test: 0.237350022246  | loss: 0.0799079196528\n",
      "970  | test: 0.283050516531  | loss: 0.0240991137922\n",
      "980  | test: 0.0989928492856  | loss: 0.0175422439352\n",
      "990  | test: 0.122504379879  | loss: 0.012036302872\n"
     ]
    }
   ],
   "source": [
    "num_steps = 1000 #2000\n",
    "n_logging = 10\n",
    "n_test_logg = 10\n",
    "\n",
    "tf.initialize_all_variables().run()\n",
    "print('Initialized')\n",
    "\n",
    "mean_loss= 0\n",
    "train_accuracy= 0\n",
    "for step in range(num_steps):\n",
    "    batch_X= train_X\n",
    "    batch_y= train_y\n",
    "    \n",
    "        \n",
    "    feed_dict = {train.inputs : batch_X, train.labels : batch_y, drop_prob:1.0}\n",
    "    \n",
    "    _, l, train_pred = sess.run([optimizer, train.loss, train.y],feed_dict=feed_dict)\n",
    "    mean_loss += l    \n",
    "    \n",
    "    if step%n_logging == 0:                \n",
    "        # test\n",
    "        pred = test.y.eval(feed_dict={test.inputs: test_X, drop_prob: 1.0})\n",
    "            \n",
    "        test_error = np.sum( np.power(pred-test_y, 2.0) )/2.0\n",
    "        \n",
    "        # print            \n",
    "        print(step, ' | test:', test_error, ' | loss:', mean_loss/n_logging)\n",
    "        mean_loss= 0\n",
    "        "
   ]
  },
  {
   "cell_type": "code",
   "execution_count": 8,
   "metadata": {
    "collapsed": false
   },
   "outputs": [
    {
     "data": {
      "text/plain": [
       "[<matplotlib.lines.Line2D at 0x7f52600e4ba8>]"
      ]
     },
     "execution_count": 8,
     "metadata": {},
     "output_type": "execute_result"
    },
    {
     "data": {
      "image/png": "[encoded data removed]",
      "text/plain": [
       "<matplotlib.figure.Figure at 0x7f53900fac18>"
      ]
     },
     "metadata": {},
     "output_type": "display_data"
    }
   ],
   "source": [
    "%matplotlib inline\n",
    "import matplotlib.pyplot as plt\n",
    "\n",
    "pred = train.y.eval(feed_dict={train.inputs: train_X, drop_prob: 1.0})\n",
    "\n",
    "plt.plot(np.arange(pred.shape[0]), pred)\n",
    "plt.plot(np.arange(pred.shape[0]), pred, 'ro')\n",
    "\n",
    "plt.plot(np.arange(train_y.shape[0]), train_y)\n"
   ]
  },
  {
   "cell_type": "code",
   "execution_count": 9,
   "metadata": {
    "collapsed": false
   },
   "outputs": [
    {
     "data": {
      "text/plain": [
       "[<matplotlib.lines.Line2D at 0x7f523418e668>]"
      ]
     },
     "execution_count": 9,
     "metadata": {},
     "output_type": "execute_result"
    },
    {
     "data": {
      "image/png": "[encoded data removed]",
      "text/plain": [
       "<matplotlib.figure.Figure at 0x7f52600ba518>"
      ]
     },
     "metadata": {},
     "output_type": "display_data"
    }
   ],
   "source": [
    "pred = test.y.eval(feed_dict={test.inputs: test_X, drop_prob: 1.0})\n",
    "\n",
    "plt.plot(np.arange(pred.shape[0]), pred)\n",
    "plt.plot(np.arange(pred.shape[0]), pred, 'ro')\n",
    "plt.plot(np.arange(test_y.shape[0]), test_y)\n"
   ]
  },
  {
   "cell_type": "code",
   "execution_count": null,
   "metadata": {
    "collapsed": true
   },
   "outputs": [],
   "source": []
  }
 ],
 "metadata": {
  "anaconda-cloud": {},
  "kernelspec": {
   "display_name": "Python [Root]",
   "language": "python",
   "name": "Python [Root]"
  },
  "language_info": {
   "codemirror_mode": {
    "name": "ipython",
    "version": 3
   },
   "file_extension": ".py",
   "mimetype": "text/x-python",
   "name": "python",
   "nbconvert_exporter": "python",
   "pygments_lexer": "ipython3",
   "version": "3.5.2"
  }
 },
 "nbformat": 4,
 "nbformat_minor": 0
}
