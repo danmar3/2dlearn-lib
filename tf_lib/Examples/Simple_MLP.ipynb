{
 "cells": [
  {
   "cell_type": "markdown",
   "metadata": {},
   "source": [
    "# Test for a simple regression problem"
   ]
  },
  {
   "cell_type": "code",
   "execution_count": 1,
   "metadata": {
    "collapsed": false
   },
   "outputs": [],
   "source": [
    "from __future__ import absolute_import\n",
    "from __future__ import division\n",
    "from __future__ import print_function\n",
    "\n",
    "import tensorflow as tf\n",
    "import numpy as np\n",
    "\n",
    "import sys\n",
    "sys.path.append('../')\n",
    "from Feedforward import *\n",
    "from Batch_generator import *"
   ]
  },
  {
   "cell_type": "markdown",
   "metadata": {},
   "source": [
    "## 1. Create Dataset"
   ]
  },
  {
   "cell_type": "code",
   "execution_count": 2,
   "metadata": {
    "collapsed": false
   },
   "outputs": [
    {
     "name": "stdout",
     "output_type": "stream",
     "text": [
      "(100, 1)\n",
      "(100, 1)\n"
     ]
    }
   ],
   "source": [
    "train_X= np.expand_dims(np.linspace(0,10,100), -1)\n",
    "train_y= np.sin(train_X)\n",
    "\n",
    "test_X= np.expand_dims(np.linspace(0,10,1000), -1)\n",
    "test_y= np.sin(test_X)\n",
    "\n",
    "n_features= 1\n",
    "\n",
    "print(train_X.shape)\n",
    "print(train_y.shape)"
   ]
  },
  {
   "cell_type": "markdown",
   "metadata": {},
   "source": [
    "#### normalization"
   ]
  },
  {
   "cell_type": "code",
   "execution_count": 3,
   "metadata": {
    "collapsed": false
   },
   "outputs": [
    {
     "name": "stdout",
     "output_type": "stream",
     "text": [
      "[ 1.]\n",
      "[ 0.99104005]\n"
     ]
    }
   ],
   "source": [
    "std_data= np.std(train_X, 0)\n",
    "mean_data= np.mean(train_X, 0)\n",
    "\n",
    "for i in range(n_features):\n",
    "    train_X[:,i]= (train_X[:,i]-mean_data[i])/std_data[i]\n",
    "    test_X[:,i]= (test_X[:,i]-mean_data[i])/std_data[i]\n",
    "print(np.std(train_X,0))\n",
    "print(np.std(test_X,0))"
   ]
  },
  {
   "cell_type": "markdown",
   "metadata": {},
   "source": [
    "## 2. Batch Generators"
   ]
  },
  {
   "cell_type": "code",
   "execution_count": 4,
   "metadata": {
    "collapsed": false
   },
   "outputs": [],
   "source": [
    "batch_size = train_X.shape[0] #50\n",
    "batch_size_test= test_X.shape[0]"
   ]
  },
  {
   "cell_type": "markdown",
   "metadata": {},
   "source": [
    "## 2. Define the Model"
   ]
  },
  {
   "cell_type": "code",
   "execution_count": 5,
   "metadata": {
    "collapsed": false
   },
   "outputs": [],
   "source": [
    "sess = tf.InteractiveSession()"
   ]
  },
  {
   "cell_type": "code",
   "execution_count": 6,
   "metadata": {
    "collapsed": false
   },
   "outputs": [],
   "source": [
    "# Network parameters\n",
    "n_inputs= n_features\n",
    "n_outputs=  1\n",
    "n_hidden = [10]\n",
    "\n",
    "# for dropout\n",
    "drop_prob = tf.placeholder(tf.float32)\n",
    "\n",
    "# Define MLP Net\n",
    "mlp_net= MlpNet( n_inputs, n_outputs, n_hidden, afunction= tf.sigmoid ,name='MlpNet')\n",
    "\n",
    "# Define train setup\n",
    "train= mlp_net.setup(batch_size, drop_prob, l2_reg_coef= 0.000001, loss_type='l2')\n",
    "# Define test setup\n",
    "test= mlp_net.setup(batch_size_test, drop_prob)\n",
    "\n",
    "\n",
    "# Optimizer.\n",
    "optimizer = tf.train.AdamOptimizer(0.5).minimize(train.loss) #0.001"
   ]
  },
  {
   "cell_type": "markdown",
   "metadata": {},
   "source": [
    "## 3. Train the model"
   ]
  },
  {
   "cell_type": "code",
   "execution_count": 7,
   "metadata": {
    "collapsed": false
   },
   "outputs": [
    {
     "name": "stdout",
     "output_type": "stream",
     "text": [
      "Initialized\n",
      "0  | test: 4289.25269129  | loss: 2.37708129883\n",
      "10  | test: 299.312308755  | loss: 106.994795036\n",
      "20  | test: 222.05807947  | loss: 33.363376236\n",
      "30  | test: 225.876363289  | loss: 25.2212421417\n",
      "40  | test: 223.352901452  | loss: 23.1141162872\n",
      "50  | test: 223.151093567  | loss: 22.3222156525\n",
      "60  | test: 221.965424043  | loss: 22.1674365997\n",
      "70  | test: 221.383926279  | loss: 22.0922609329\n",
      "80  | test: 220.60636892  | loss: 22.035329628\n",
      "90  | test: 220.19583255  | loss: 21.9926893234\n",
      "100  | test: 219.452290173  | loss: 21.9252454758\n",
      "110  | test: 217.992775282  | loss: 21.8104860306\n",
      "120  | test: 213.835562128  | loss: 21.6018575668\n",
      "130  | test: 176.476795332  | loss: 19.8554954529\n",
      "140  | test: 173.26090878  | loss: 17.4182302475\n",
      "150  | test: 162.758231195  | loss: 16.549772644\n",
      "160  | test: 159.632135449  | loss: 16.0064993858\n",
      "170  | test: 158.913327487  | loss: 15.7879719734\n",
      "180  | test: 158.201528014  | loss: 15.7091274261\n",
      "190  | test: 157.571949389  | loss: 15.6491801262\n",
      "200  | test: 157.046402519  | loss: 15.5924039841\n",
      "210  | test: 156.520317931  | loss: 15.5400437355\n",
      "220  | test: 155.928503269  | loss: 15.485440731\n",
      "230  | test: 155.217761211  | loss: 15.4224180222\n",
      "240  | test: 154.27453497  | loss: 15.3431811333\n",
      "250  | test: 152.83705515  | loss: 15.2311347961\n",
      "260  | test: 150.153340785  | loss: 15.0435997009\n",
      "270  | test: 142.862347315  | loss: 14.6290148735\n",
      "280  | test: 99.552301831  | loss: 12.9476631165\n",
      "290  | test: 31.7626311605  | loss: 5.49575400352\n",
      "300  | test: 27.0447075213  | loss: 3.33609106541\n",
      "310  | test: 14.3704375843  | loss: 2.07517774105\n",
      "320  | test: 12.0878963095  | loss: 1.36529519558\n",
      "330  | test: 10.8153966094  | loss: 1.2272795558\n",
      "340  | test: 10.3864178226  | loss: 1.15045735836\n",
      "350  | test: 9.64430129872  | loss: 1.08732163906\n",
      "360  | test: 8.94332932119  | loss: 1.00802281499\n",
      "370  | test: 8.2955814717  | loss: 0.93246409297\n",
      "380  | test: 15.8061438734  | loss: 0.996392476559\n",
      "390  | test: 9.50791788719  | loss: 1.25937053561\n",
      "400  | test: 7.29712725514  | loss: 0.929349786043\n",
      "410  | test: 6.68412813498  | loss: 0.783709746599\n",
      "420  | test: 6.13461954134  | loss: 0.693359601498\n",
      "430  | test: 5.58669900313  | loss: 0.630425995588\n",
      "440  | test: 5.20185490651  | loss: 0.581071913242\n",
      "450  | test: 4.80156033832  | loss: 0.538021165133\n",
      "460  | test: 4.46983505166  | loss: 0.498833861947\n",
      "470  | test: 16.4554471833  | loss: 0.770714458823\n",
      "480  | test: 6.94919487072  | loss: 0.838387435675\n",
      "490  | test: 3.87340380355  | loss: 0.542428126931\n",
      "500  | test: 3.92121538528  | loss: 0.436371442676\n",
      "510  | test: 3.4235769496  | loss: 0.390725436807\n",
      "520  | test: 3.09826851293  | loss: 0.354841139913\n",
      "530  | test: 2.88968565681  | loss: 0.323860934377\n",
      "540  | test: 2.64505807404  | loss: 0.29781858623\n",
      "550  | test: 2.43799262128  | loss: 0.273783269525\n",
      "560  | test: 2.27423755146  | loss: 0.253079350293\n",
      "570  | test: 12.4940845073  | loss: 0.405198803544\n",
      "580  | test: 5.11112313977  | loss: 0.616875328124\n",
      "590  | test: 1.89092374356  | loss: 0.319671362638\n",
      "600  | test: 2.09019826749  | loss: 0.224331560731\n",
      "610  | test: 1.6063598739  | loss: 0.189692956209\n",
      "620  | test: 1.50376158517  | loss: 0.167565055192\n",
      "630  | test: 1.3543539568  | loss: 0.151640257239\n",
      "640  | test: 1.24051101172  | loss: 0.138031134009\n",
      "650  | test: 1.14040000615  | loss: 0.126317309588\n",
      "660  | test: 1.04890804853  | loss: 0.115867540985\n",
      "670  | test: 0.967880522315  | loss: 0.10637704432\n",
      "680  | test: 0.889142651967  | loss: 0.0977675683796\n",
      "690  | test: 0.820965972816  | loss: 0.0899337477982\n",
      "700  | test: 0.757298179621  | loss: 0.082817646116\n",
      "710  | test: 0.700115391111  | loss: 0.0763389356434\n",
      "720  | test: 0.680494571251  | loss: 0.0708073541522\n",
      "730  | test: 7.87379990363  | loss: 0.191880557686\n",
      "740  | test: 1.61465487953  | loss: 0.420789112151\n",
      "750  | test: 1.08113510338  | loss: 0.143059872836\n",
      "760  | test: 0.669912172777  | loss: 0.0763170689344\n",
      "770  | test: 0.453243679655  | loss: 0.0588429994881\n",
      "780  | test: 0.455281031124  | loss: 0.0482862774283\n",
      "790  | test: 0.395737282271  | loss: 0.0433189045638\n",
      "800  | test: 0.367754239891  | loss: 0.0397542346269\n",
      "810  | test: 0.344098358811  | loss: 0.036805408448\n",
      "820  | test: 0.322520574982  | loss: 0.0343121927232\n",
      "830  | test: 0.301549826565  | loss: 0.0320802716538\n",
      "840  | test: 0.282949391909  | loss: 0.0300553252921\n",
      "850  | test: 0.266092206807  | loss: 0.0282118368894\n",
      "860  | test: 0.250674980679  | loss: 0.0265247652307\n",
      "870  | test: 0.236501116217  | loss: 0.0249773459509\n",
      "880  | test: 0.223450544006  | loss: 0.0235556941479\n",
      "890  | test: 0.211414397205  | loss: 0.0222476687282\n",
      "900  | test: 0.200294010428  | loss: 0.0210425766185\n",
      "910  | test: 0.190010738544  | loss: 0.0199309129268\n",
      "920  | test: 0.18050063807  | loss: 0.0189040901139\n",
      "930  | test: 0.171697522813  | loss: 0.0179544648156\n",
      "940  | test: 0.163529307024  | loss: 0.0170751545578\n",
      "950  | test: 0.155942858527  | loss: 0.0162599941716\n",
      "960  | test: 0.148890259752  | loss: 0.0155033448711\n",
      "970  | test: 0.142323988702  | loss: 0.0148002160713\n",
      "980  | test: 0.136208288102  | loss: 0.0141460900195\n",
      "990  | test: 0.130502391642  | loss: 0.0135368378833\n"
     ]
    }
   ],
   "source": [
    "num_steps = 1000 #2000\n",
    "n_logging = 10\n",
    "n_test_logg = 10\n",
    "\n",
    "tf.initialize_all_variables().run()\n",
    "print('Initialized')\n",
    "\n",
    "mean_loss= 0\n",
    "train_accuracy= 0\n",
    "for step in range(num_steps):\n",
    "    batch_X= train_X\n",
    "    batch_y= train_y\n",
    "    \n",
    "        \n",
    "    feed_dict = {train.inputs : batch_X, train.labels : batch_y, drop_prob:1.0}\n",
    "    \n",
    "    _, l, train_pred = sess.run([optimizer, train.loss, train.y],feed_dict=feed_dict)\n",
    "    mean_loss += l    \n",
    "    \n",
    "    if step%n_logging == 0:                \n",
    "        # test\n",
    "        pred = test.y.eval(feed_dict={test.inputs: test_X, drop_prob: 1.0})\n",
    "            \n",
    "        test_error = np.sum( np.power(pred-test_y, 2.0) )/2.0\n",
    "        \n",
    "        # print            \n",
    "        print(step, ' | test:', test_error, ' | loss:', mean_loss/n_logging)\n",
    "        mean_loss= 0\n",
    "        "
   ]
  },
  {
   "cell_type": "code",
   "execution_count": 8,
   "metadata": {
    "collapsed": false
   },
   "outputs": [
    {
     "data": {
      "text/plain": [
       "[<matplotlib.lines.Line2D at 0x7fe21c091240>]"
      ]
     },
     "execution_count": 8,
     "metadata": {},
     "output_type": "execute_result"
    },
    {
     "data": {
      "image/png": "[encoded data removed]",
      "text/plain": [
       "<matplotlib.figure.Figure at 0x7fe280104780>"
      ]
     },
     "metadata": {},
     "output_type": "display_data"
    }
   ],
   "source": [
    "%matplotlib inline\n",
    "import matplotlib.pyplot as plt\n",
    "\n",
    "pred = train.y.eval(feed_dict={train.inputs: train_X, drop_prob: 1.0})\n",
    "\n",
    "plt.plot(np.arange(pred.shape[0]), pred)\n",
    "plt.plot(np.arange(pred.shape[0]), pred, 'ro')\n",
    "\n",
    "plt.plot(np.arange(train_y.shape[0]), train_y)\n"
   ]
  },
  {
   "cell_type": "code",
   "execution_count": 9,
   "metadata": {
    "collapsed": false
   },
   "outputs": [
    {
     "data": {
      "text/plain": [
       "[<matplotlib.lines.Line2D at 0x7fe2041b3d30>]"
      ]
     },
     "execution_count": 9,
     "metadata": {},
     "output_type": "execute_result"
    },
    {
     "data": {
      "image/png": "[encoded data removed]",
      "text/plain": [
       "<matplotlib.figure.Figure at 0x7fe21c0d90f0>"
      ]
     },
     "metadata": {},
     "output_type": "display_data"
    }
   ],
   "source": [
    "pred = test.y.eval(feed_dict={test.inputs: test_X, drop_prob: 1.0})\n",
    "\n",
    "plt.plot(np.arange(pred.shape[0]), pred)\n",
    "plt.plot(np.arange(pred.shape[0]), pred, 'ro')\n",
    "plt.plot(np.arange(test_y.shape[0]), test_y)\n"
   ]
  },
  {
   "cell_type": "code",
   "execution_count": null,
   "metadata": {
    "collapsed": true
   },
   "outputs": [],
   "source": []
  }
 ],
 "metadata": {
  "anaconda-cloud": {},
  "kernelspec": {
   "display_name": "Python [Root]",
   "language": "python",
   "name": "Python [Root]"
  },
  "language_info": {
   "codemirror_mode": {
    "name": "ipython",
    "version": 3
   },
   "file_extension": ".py",
   "mimetype": "text/x-python",
   "name": "python",
   "nbconvert_exporter": "python",
   "pygments_lexer": "ipython3",
   "version": "3.5.2"
  }
 },
 "nbformat": 4,
 "nbformat_minor": 0
}
