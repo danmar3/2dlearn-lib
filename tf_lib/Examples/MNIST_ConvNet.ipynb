{
 "cells": [
  {
   "cell_type": "markdown",
   "metadata": {},
   "source": [
    "# ConvNet on MNIST"
   ]
  },
  {
   "cell_type": "code",
   "execution_count": 1,
   "metadata": {
    "collapsed": true
   },
   "outputs": [],
   "source": [
    "from __future__ import absolute_import\n",
    "from __future__ import division\n",
    "from __future__ import print_function\n",
    "\n",
    "import tensorflow as tf\n",
    "import numpy as np\n",
    "\n",
    "import sys\n",
    "sys.path.append('../')\n",
    "from Feedforward import *"
   ]
  },
  {
   "cell_type": "markdown",
   "metadata": {},
   "source": [
    "## 1. Load MNIST"
   ]
  },
  {
   "cell_type": "code",
   "execution_count": 2,
   "metadata": {
    "collapsed": false
   },
   "outputs": [
    {
     "name": "stdout",
     "output_type": "stream",
     "text": [
      "Extracting MNIST_data/train-images-idx3-ubyte.gz\n",
      "Extracting MNIST_data/train-labels-idx1-ubyte.gz\n",
      "Extracting MNIST_data/t10k-images-idx3-ubyte.gz\n",
      "Extracting MNIST_data/t10k-labels-idx1-ubyte.gz\n"
     ]
    }
   ],
   "source": [
    "from tensorflow.examples.tutorials.mnist import input_data\n",
    "mnist = input_data.read_data_sets(\"MNIST_data/\", one_hot=True)\n"
   ]
  },
  {
   "cell_type": "code",
   "execution_count": 3,
   "metadata": {
    "collapsed": false
   },
   "outputs": [],
   "source": [
    "batch_X, batch_y = mnist.train.next_batch(100)"
   ]
  },
  {
   "cell_type": "code",
   "execution_count": 4,
   "metadata": {
    "collapsed": false
   },
   "outputs": [
    {
     "name": "stdout",
     "output_type": "stream",
     "text": [
      "(100, 28, 28, 1)\n",
      "(100, 10)\n"
     ]
    }
   ],
   "source": [
    "print(np.reshape(batch_X, [-1,28,28,1]).shape)\n",
    "print(batch_y.shape)\n"
   ]
  },
  {
   "cell_type": "markdown",
   "metadata": {},
   "source": [
    "## 2. Model definition"
   ]
  },
  {
   "cell_type": "code",
   "execution_count": 5,
   "metadata": {
    "collapsed": true
   },
   "outputs": [],
   "source": [
    "sess = tf.InteractiveSession()"
   ]
  },
  {
   "cell_type": "code",
   "execution_count": 6,
   "metadata": {
    "collapsed": false
   },
   "outputs": [],
   "source": [
    "input_size= [28, 28]\n",
    "n_outputs=  batch_y.shape[1]\n",
    "n_input_maps= 1\n",
    "\n",
    "n_filters = [32, 64]   \n",
    "filter_size = [[5,5], [5,5]] \n",
    "pool_size =   [[2,2], [2,2]] \n",
    "n_hidden = [1024]\n",
    "\n",
    "batch_size= 100"
   ]
  },
  {
   "cell_type": "code",
   "execution_count": 7,
   "metadata": {
    "collapsed": false
   },
   "outputs": [
    {
     "name": "stdout",
     "output_type": "stream",
     "text": [
      "Shape of input matrix entering to Fully connected layers: [100, 4, 4, 64]\n"
     ]
    }
   ],
   "source": [
    "# for dropout\n",
    "drop_prob = tf.placeholder(tf.float32)\n",
    "\n",
    "# Define ConvNet\n",
    "conv_net= ConvNet( input_size, n_input_maps, n_outputs, n_filters, filter_size, pool_size, n_hidden, name='ConvNet')\n",
    "\n",
    "# Define train setup\n",
    "train= conv_net.setup(batch_size, drop_prob, loss_type= 'cross_entropy')\n",
    "\n",
    "# Optimizer.\n",
    "optimizer = tf.train.AdamOptimizer(1e-3).minimize(train.loss) #0.001\n",
    "  \n",
    "# Predictions for the training, validation, and test data.\n",
    "train_prediction = tf.nn.softmax(train.y)"
   ]
  },
  {
   "cell_type": "markdown",
   "metadata": {},
   "source": [
    "## 3. Training"
   ]
  },
  {
   "cell_type": "code",
   "execution_count": 8,
   "metadata": {
    "collapsed": true
   },
   "outputs": [],
   "source": [
    "def accuracy(predictions, labels):\n",
    "    if n_outputs == 1:\n",
    "        return (100.0 * np.sum(np.greater(predictions, 0.5) == np.greater(labels, 0.5))/ predictions.shape[0])\n",
    "    else:\n",
    "        return (100.0 * np.sum(np.argmax(predictions, 1) == np.argmax(labels, 1))/ predictions.shape[0])"
   ]
  },
  {
   "cell_type": "code",
   "execution_count": 9,
   "metadata": {
    "collapsed": false
   },
   "outputs": [
    {
     "name": "stdout",
     "output_type": "stream",
     "text": [
      "Initialized\n",
      "0 , train: 0.16  | test: 13.3  | loss: 0.0429822063446\n",
      "100 , train: 85.64  | test: 94.1  | loss: 0.528514693379\n",
      "200 , train: 96.64  | test: 95.9  | loss: 0.113389568478\n",
      "300 , train: 97.01  | test: 97.7  | loss: 0.0949180727266\n",
      "400 , train: 97.41  | test: 96.7  | loss: 0.0834003352933\n",
      "500 , train: 97.49  | test: 99.6  | loss: 0.0777033812832\n",
      "600 , train: 98.53  | test: 99.4  | loss: 0.049335857376\n",
      "700 , train: 98.59  | test: 99.9  | loss: 0.0425079069845\n",
      "800 , train: 98.97  | test: 99.7  | loss: 0.0338799120986\n",
      "900 , train: 98.81  | test: 99.4  | loss: 0.0381385591999\n",
      "1000 , train: 98.96  | test: 98.4  | loss: 0.03205979208\n",
      "1100 , train: 98.69  | test: 98.2  | loss: 0.0423296091752\n",
      "1200 , train: 99.32  | test: 99.1  | loss: 0.020264725592\n",
      "1300 , train: 99.36  | test: 98.4  | loss: 0.0213044344634\n",
      "1400 , train: 99.46  | test: 99.0  | loss: 0.0203275806981\n",
      "1500 , train: 99.13  | test: 98.9  | loss: 0.0248945162934\n",
      "1600 , train: 99.04  | test: 98.7  | loss: 0.028089706219\n",
      "1700 , train: 99.27  | test: 98.6  | loss: 0.0234981833887\n",
      "1800 , train: 99.63  | test: 99.5  | loss: 0.0119432477793\n",
      "1900 , train: 99.49  | test: 98.7  | loss: 0.0157569468379\n",
      "2000 , train: 99.5  | test: 99.6  | loss: 0.0170521423969\n",
      "2100 , train: 99.43  | test: 99.2  | loss: 0.0169833350024\n",
      "2200 , train: 99.38  | test: 99.1  | loss: 0.0195445175658\n",
      "2300 , train: 99.57  | test: 99.2  | loss: 0.0129558356659\n",
      "2400 , train: 99.53  | test: 98.7  | loss: 0.0134669546733\n",
      "2500 , train: 99.72  | test: 99.4  | loss: 0.0108223618749\n",
      "2600 , train: 99.54  | test: 98.6  | loss: 0.0137099441855\n",
      "2700 , train: 99.27  | test: 99.0  | loss: 0.0215550976578\n",
      "2800 , train: 99.58  | test: 99.4  | loss: 0.0126892865967\n",
      "2900 , train: 99.64  | test: 99.3  | loss: 0.00975618074968\n",
      "3000 , train: 99.68  | test: 98.9  | loss: 0.0107126022156\n",
      "3100 , train: 99.73  | test: 99.2  | loss: 0.00832515714239\n",
      "3200 , train: 99.57  | test: 99.1  | loss: 0.0129284975251\n",
      "3300 , train: 99.34  | test: 99.2  | loss: 0.0174969912285\n",
      "3400 , train: 99.57  | test: 99.1  | loss: 0.0118052174144\n",
      "3500 , train: 99.65  | test: 99.7  | loss: 0.00911348134061\n",
      "3600 , train: 99.53  | test: 99.1  | loss: 0.0126800433075\n",
      "3700 , train: 99.78  | test: 99.0  | loss: 0.0073647042891\n",
      "3800 , train: 99.65  | test: 99.1  | loss: 0.0122483912246\n",
      "3900 , train: 99.52  | test: 98.8  | loss: 0.0144423965651\n",
      "4000 , train: 99.65  | test: 99.2  | loss: 0.00960914081734\n",
      "4100 , train: 99.79  | test: 99.3  | loss: 0.00589987745683\n",
      "4200 , train: 99.76  | test: 99.2  | loss: 0.00783191383529\n",
      "4300 , train: 99.64  | test: 98.8  | loss: 0.0108680546344\n",
      "4400 , train: 99.6  | test: 98.9  | loss: 0.0133361774914\n",
      "4500 , train: 99.81  | test: 98.3  | loss: 0.00635880988196\n",
      "4600 , train: 99.71  | test: 98.8  | loss: 0.00767072999926\n",
      "4700 , train: 99.64  | test: 99.5  | loss: 0.0108910842995\n",
      "4800 , train: 99.74  | test: 99.3  | loss: 0.00832290805403\n",
      "4900 , train: 99.75  | test: 99.3  | loss: 0.00604179226626\n"
     ]
    }
   ],
   "source": [
    "num_steps = 5000\n",
    "summary_freq= 100\n",
    "n_test_logg= 10 # number of evaluations on test dataset (for logging information)\n",
    "\n",
    "tf.initialize_all_variables().run()\n",
    "print('Initialized')\n",
    "\n",
    "mean_loss= 0\n",
    "train_accuracy= 0\n",
    "for step in range(num_steps):\n",
    "    batch_X, batch_y= mnist.train.next_batch(batch_size)\n",
    "    batch_X= np.reshape(batch_X, [-1,28,28,1])\n",
    "    \n",
    "    \n",
    "    feed_dict = {train.inputs : batch_X, train.labels : batch_y, drop_prob:1.0}\n",
    "    \n",
    "    _, l, train_pred = sess.run([optimizer, train.loss, train_prediction],feed_dict=feed_dict)\n",
    "    \n",
    "    train_accuracy += accuracy(train_pred, batch_y)\n",
    "    mean_loss += l    \n",
    "    \n",
    "    if step%summary_freq == 0:\n",
    "        # train\n",
    "        train_accuracy= train_accuracy/summary_freq\n",
    "        \n",
    "        # test\n",
    "        test_accuracy= 0\n",
    "        for i in range(n_test_logg):\n",
    "            batch_X_test, batch_y_test= mnist.test.next_batch(batch_size) \n",
    "            batch_X_test= np.reshape(batch_X_test, [-1,28,28,1])\n",
    "\n",
    "            pred = train_prediction.eval(feed_dict={train.inputs: batch_X_test, drop_prob: 1.0})\n",
    "            \n",
    "            test_accuracy += accuracy(pred, batch_y_test)\n",
    "        test_accuracy= test_accuracy/n_test_logg\n",
    "            \n",
    "        print(step, ', train:',train_accuracy,' | test:', test_accuracy, ' | loss:', mean_loss/summary_freq)\n",
    "        mean_loss= 0\n",
    "        train_accuracy= 0"
   ]
  },
  {
   "cell_type": "code",
   "execution_count": null,
   "metadata": {
    "collapsed": true
   },
   "outputs": [],
   "source": []
  }
 ],
 "metadata": {
  "anaconda-cloud": {},
  "kernelspec": {
   "display_name": "Python [Root]",
   "language": "python",
   "name": "Python [Root]"
  },
  "language_info": {
   "codemirror_mode": {
    "name": "ipython",
    "version": 3
   },
   "file_extension": ".py",
   "mimetype": "text/x-python",
   "name": "python",
   "nbconvert_exporter": "python",
   "pygments_lexer": "ipython3",
   "version": "3.5.2"
  }
 },
 "nbformat": 4,
 "nbformat_minor": 0
}
